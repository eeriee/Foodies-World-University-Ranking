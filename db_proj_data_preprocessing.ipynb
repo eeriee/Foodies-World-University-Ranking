{
 "cells": [
  {
   "cell_type": "markdown",
   "metadata": {},
   "source": [
    "# CS537 Database Project"
   ]
  },
  {
   "cell_type": "markdown",
   "metadata": {},
   "source": [
    "## Author: Xi Wang"
   ]
  },
  {
   "cell_type": "code",
   "execution_count": 1,
   "metadata": {
    "collapsed": true
   },
   "outputs": [],
   "source": [
    "import pandas as pd\n",
    "import numpy as np\n",
    "import json\n",
    "import os"
   ]
  },
  {
   "cell_type": "markdown",
   "metadata": {},
   "source": [
    "# Generate review table "
   ]
  },
  {
   "cell_type": "code",
   "execution_count": 43,
   "metadata": {
    "collapsed": false,
    "scrolled": true
   },
   "outputs": [],
   "source": [
    "data = []\n",
    "with open(os.path.expanduser(\"~/Desktop/db/project/yelp_academic_dataset_review.json\")) as f:\n",
    "    for line in f: \n",
    "        data.append(json.loads(line))"
   ]
  },
  {
   "cell_type": "code",
   "execution_count": 44,
   "metadata": {
    "collapsed": false
   },
   "outputs": [
    {
     "name": "stdout",
     "output_type": "stream",
     "text": [
      "{'business_id': '5UmKMjUEUNdYWqANhGckJw', 'date': '2014-02-13', 'user_id': 'Iu6AxdBYGR4A0wspR9BYHA', 'type': 'review', 'stars': 5, 'text': \"Excellent food. Superb customer service. I miss the mario machines they used to have, but it's still a great place steeped in tradition.\", 'votes': {'useful': 0, 'cool': 0, 'funny': 0}, 'review_id': 'KPvLNJ21_4wbYNctrOwWdQ'}\n"
     ]
    }
   ],
   "source": [
    "print(data[1])"
   ]
  },
  {
   "cell_type": "code",
   "execution_count": 45,
   "metadata": {
    "collapsed": true
   },
   "outputs": [],
   "source": [
    "review_df= pd.DataFrame(data)"
   ]
  },
  {
   "cell_type": "code",
   "execution_count": 48,
   "metadata": {
    "collapsed": false
   },
   "outputs": [],
   "source": [
    "review_df = review_df.drop(['date', 'type','votes'], axis =1)"
   ]
  },
  {
   "cell_type": "code",
   "execution_count": 51,
   "metadata": {
    "collapsed": false
   },
   "outputs": [],
   "source": [
    "review_df.to_csv(\"review.csv\", index = False)"
   ]
  },
  {
   "cell_type": "code",
   "execution_count": 52,
   "metadata": {
    "collapsed": false,
    "scrolled": true
   },
   "outputs": [
    {
     "name": "stdout",
     "output_type": "stream",
     "text": [
      "<class 'pandas.core.frame.DataFrame'>\n",
      "RangeIndex: 2685066 entries, 0 to 2685065\n",
      "Data columns (total 5 columns):\n",
      "business_id    object\n",
      "review_id      object\n",
      "stars          int64\n",
      "text           object\n",
      "user_id        object\n",
      "dtypes: int64(1), object(4)\n",
      "memory usage: 102.4+ MB\n"
     ]
    }
   ],
   "source": [
    "review_df.info()"
   ]
  },
  {
   "cell_type": "markdown",
   "metadata": {},
   "source": [
    "# Generate user table "
   ]
  },
  {
   "cell_type": "code",
   "execution_count": 2,
   "metadata": {
    "collapsed": true
   },
   "outputs": [],
   "source": [
    "user_data = []\n",
    "with open(os.path.expanduser(\"~/Desktop/db/project/yelp_academic_dataset_user.json\")) as f:\n",
    "    for line in f: \n",
    "        user_data.append(json.loads(line))"
   ]
  },
  {
   "cell_type": "code",
   "execution_count": 3,
   "metadata": {
    "collapsed": true
   },
   "outputs": [],
   "source": [
    "user_df= pd.DataFrame(user_data)"
   ]
  },
  {
   "cell_type": "code",
   "execution_count": 56,
   "metadata": {
    "collapsed": true
   },
   "outputs": [],
   "source": [
    "user_df = user_df.drop(['friends', 'elite', 'compliments'], axis = 1)"
   ]
  },
  {
   "cell_type": "code",
   "execution_count": 62,
   "metadata": {
    "collapsed": false
   },
   "outputs": [
    {
     "name": "stdout",
     "output_type": "stream",
     "text": [
      "<class 'pandas.core.frame.DataFrame'>\n",
      "RangeIndex: 686556 entries, 0 to 686555\n",
      "Data columns (total 6 columns):\n",
      "average_stars    686556 non-null float64\n",
      "fans             686556 non-null int64\n",
      "name             686556 non-null object\n",
      "review_count     686556 non-null int64\n",
      "user_id          686556 non-null object\n",
      "yelping_since    686556 non-null object\n",
      "dtypes: float64(1), int64(2), object(3)\n",
      "memory usage: 31.4+ MB\n"
     ]
    }
   ],
   "source": [
    "user.info()"
   ]
  },
  {
   "cell_type": "code",
   "execution_count": 58,
   "metadata": {
    "collapsed": true
   },
   "outputs": [],
   "source": [
    "user_df = user_df.drop(['type'], axis = 1)"
   ]
  },
  {
   "cell_type": "code",
   "execution_count": 61,
   "metadata": {
    "collapsed": false
   },
   "outputs": [],
   "source": [
    "user = user_df.drop(['votes'], axis=1)"
   ]
  },
  {
   "cell_type": "code",
   "execution_count": 63,
   "metadata": {
    "collapsed": true
   },
   "outputs": [],
   "source": [
    "user.to_csv(\"user.csv\", index=False)"
   ]
  },
  {
   "cell_type": "markdown",
   "metadata": {},
   "source": [
    "# Generate user_votes table "
   ]
  },
  {
   "cell_type": "code",
   "execution_count": 4,
   "metadata": {
    "collapsed": true
   },
   "outputs": [],
   "source": [
    "user_vote = user_df['votes']"
   ]
  },
  {
   "cell_type": "code",
   "execution_count": 28,
   "metadata": {
    "collapsed": false
   },
   "outputs": [
    {
     "name": "stdout",
     "output_type": "stream",
     "text": [
      "   average_stars                                        compliments  \\\n",
      "0           4.14  {'profile': 8, 'writer': 9, 'plain': 25, 'more...   \n",
      "1           3.67  {'profile': 117, 'writer': 346, 'plain': 970, ...   \n",
      "2           3.68  {'profile': 9, 'writer': 24, 'plain': 86, 'lis...   \n",
      "3           4.64                                        {'cute': 2}   \n",
      "4           3.80  {'writer': 2, 'plain': 2, 'cute': 2, 'hot': 1,...   \n",
      "\n",
      "                                               elite  fans  \\\n",
      "0                                       [2005, 2006]    69   \n",
      "1  [2005, 2006, 2007, 2008, 2009, 2010, 2011, 201...  1345   \n",
      "2  [2005, 2006, 2007, 2008, 2009, 2010, 2011, 201...   105   \n",
      "3                                                 []     2   \n",
      "4                                             [2005]     5   \n",
      "\n",
      "                                             friends       name  review_count  \\\n",
      "0  [rpOyqD_893cqmDAtJLbdog, 4U9kSBLuBDU391x6bxU-Y...     Russel           108   \n",
      "1  [18kPq7GPye-YQ3LyKyAZPw, 4U9kSBLuBDU391x6bxU-Y...     Jeremy          1292   \n",
      "2  [18kPq7GPye-YQ3LyKyAZPw, rpOyqD_893cqmDAtJLbdo...    Michael           395   \n",
      "3  [18kPq7GPye-YQ3LyKyAZPw, rpOyqD_893cqmDAtJLbdo...        Ken            11   \n",
      "4  [rpOyqD_893cqmDAtJLbdog, HDQixQ-WZEV0LVPJlIGQe...  Katherine            66   \n",
      "\n",
      "   type                 user_id  \\\n",
      "0  user  18kPq7GPye-YQ3LyKyAZPw   \n",
      "1  user  rpOyqD_893cqmDAtJLbdog   \n",
      "2  user  4U9kSBLuBDU391x6bxU-YA   \n",
      "3  user  fHtTaujcyKvXglE33Z5yIw   \n",
      "4  user  SIBCL7HBkrP4llolm4SC2A   \n",
      "\n",
      "                                             votes yelping_since  \n",
      "0       {'useful': 282, 'cool': 246, 'funny': 167}       2004-10  \n",
      "1  {'useful': 15242, 'cool': 12091, 'funny': 8399}       2004-10  \n",
      "2      {'useful': 1349, 'cool': 657, 'funny': 722}       2004-10  \n",
      "3            {'useful': 11, 'cool': 5, 'funny': 1}       2004-10  \n",
      "4          {'useful': 37, 'cool': 16, 'funny': 13}       2004-10  \n"
     ]
    }
   ],
   "source": [
    "print(user_df[:5])"
   ]
  },
  {
   "cell_type": "code",
   "execution_count": 5,
   "metadata": {
    "collapsed": true
   },
   "outputs": [],
   "source": [
    "user_vote = pd.DataFrame(user_vote)"
   ]
  },
  {
   "cell_type": "code",
   "execution_count": 23,
   "metadata": {
    "collapsed": false
   },
   "outputs": [
    {
     "name": "stdout",
     "output_type": "stream",
     "text": [
      "<class 'pandas.core.frame.DataFrame'>\n",
      "RangeIndex: 686556 entries, 0 to 686555\n",
      "Data columns (total 1 columns):\n",
      "votes    686556 non-null object\n",
      "dtypes: object(1)\n",
      "memory usage: 5.2+ MB\n"
     ]
    }
   ],
   "source": [
    "user_vote.info()"
   ]
  },
  {
   "cell_type": "code",
   "execution_count": 14,
   "metadata": {
    "collapsed": true
   },
   "outputs": [],
   "source": [
    "user_vote_json = user_vote['votes'].to_json(orient='columns')"
   ]
  },
  {
   "cell_type": "code",
   "execution_count": 21,
   "metadata": {
    "collapsed": false
   },
   "outputs": [
    {
     "data": {
      "text/plain": [
       "'{\"0\":{\"useful\":282,\"cool\":246,\"funny\":167},\"1\":{\"useful\":15242,\"cool\":12091,\"funny\":8399},\"2\":{\"useful\":1349,\"cool\":657,\"funny\":722},\"3\":{\"useful\":11,\"cool\":5,\"funny\":1},\"4\":{\"useful\":37,\"cool\":16,\"funny\":13},\"5\":{\"useful\":18183,\"cool\":17177,\"funny\":13357},\"6\":{\"useful\":39,\"cool\":25,\"funny\":35},\"7\":{\"useful\":135,\"cool\":34,\"funny\":34},\"8\":{\"useful\":251,\"cool\":52,\"funny\":58},\"9\":{\"useful\":1,\"cool\":0,\"funny\":0},\"10\":{\"useful\":29,\"cool\":14,\"funny\":7},\"11\":{\"useful\":2418,\"cool\":1938,\"funny\":1113},\"12\":{\"useful\":51,\"cool\":19,\"funny\":48},\"13\":{\"useful\":62,\"cool\":20,\"funny\":11},\"14\":{\"useful\":15,\"cool\":2,\"funny\":2},\"15\":{\"useful\":0,\"cool\":0,\"funny\":2},\"16\":{\"useful\":15,\"cool\":5,\"funny\":2},\"17\":{\"useful\":35,\"cool\":6,\"funny\":6},\"18\":{\"useful\":14,\"cool\":7,\"funny\":1},\"19\":{\"useful\":0,\"cool\":0,\"funny\":0},\"20\":{\"useful\":0,\"cool\":0,\"funny\":0},\"21\":{\"useful\":12,\"cool\":5,\"funny\":1},\"22\":{\"useful\":51,\"cool\":17,\"funny\":16},\"23\":{\"useful\":12,\"cool\":1,\"funny\":2},\"24\":{\"useful\":3,\"cool\":0,\"funny\":1},\"25\":{\"'"
      ]
     },
     "execution_count": 21,
     "metadata": {},
     "output_type": "execute_result"
    }
   ],
   "source": [
    "user_vote_json[:1000]"
   ]
  },
  {
   "cell_type": "code",
   "execution_count": 17,
   "metadata": {
    "collapsed": false
   },
   "outputs": [],
   "source": [
    "user_vote_data = pd.read_json(user_vote_json, orient='index')"
   ]
  },
  {
   "cell_type": "code",
   "execution_count": 22,
   "metadata": {
    "collapsed": false
   },
   "outputs": [],
   "source": [
    "user_vote_data = pd.DataFrame(user_vote_data)"
   ]
  },
  {
   "cell_type": "code",
   "execution_count": 25,
   "metadata": {
    "collapsed": true
   },
   "outputs": [],
   "source": [
    "user_vote_data = user_vote_data.sort_index()"
   ]
  },
  {
   "cell_type": "code",
   "execution_count": 29,
   "metadata": {
    "collapsed": true
   },
   "outputs": [],
   "source": [
    "user_vote_data['user_id'] = user_df['user_id']"
   ]
  },
  {
   "cell_type": "code",
   "execution_count": 30,
   "metadata": {
    "collapsed": false
   },
   "outputs": [
    {
     "name": "stdout",
     "output_type": "stream",
     "text": [
      "    cool  funny  useful                 user_id\n",
      "0    246    167     282  18kPq7GPye-YQ3LyKyAZPw\n",
      "1  12091   8399   15242  rpOyqD_893cqmDAtJLbdog\n",
      "2    657    722    1349  4U9kSBLuBDU391x6bxU-YA\n",
      "3      5      1      11  fHtTaujcyKvXglE33Z5yIw\n",
      "4     16     13      37  SIBCL7HBkrP4llolm4SC2A\n"
     ]
    }
   ],
   "source": [
    "print(user_vote_data[:5])"
   ]
  },
  {
   "cell_type": "code",
   "execution_count": 31,
   "metadata": {
    "collapsed": false,
    "scrolled": true
   },
   "outputs": [
    {
     "name": "stdout",
     "output_type": "stream",
     "text": [
      "<class 'pandas.core.frame.DataFrame'>\n",
      "Int64Index: 686556 entries, 0 to 686555\n",
      "Data columns (total 4 columns):\n",
      "cool       686556 non-null int64\n",
      "funny      686556 non-null int64\n",
      "useful     686556 non-null int64\n",
      "user_id    686556 non-null object\n",
      "dtypes: int64(3), object(1)\n",
      "memory usage: 26.2+ MB\n"
     ]
    }
   ],
   "source": [
    "user_vote_data.info()"
   ]
  },
  {
   "cell_type": "code",
   "execution_count": 32,
   "metadata": {
    "collapsed": false,
    "scrolled": true
   },
   "outputs": [],
   "source": [
    "user_vote_data.to_csv('user_votes.csv', index = False)"
   ]
  },
  {
   "cell_type": "markdown",
   "metadata": {},
   "source": [
    "# Generate business table"
   ]
  },
  {
   "cell_type": "code",
   "execution_count": 2,
   "metadata": {
    "collapsed": true
   },
   "outputs": [],
   "source": [
    "business_data = []\n",
    "with open(os.path.expanduser(\"~/Desktop/db/project/yelp_academic_dataset_business.json\")) as f:\n",
    "    for line in f: \n",
    "        business_data.append(json.loads(line))"
   ]
  },
  {
   "cell_type": "code",
   "execution_count": 3,
   "metadata": {
    "collapsed": false
   },
   "outputs": [],
   "source": [
    "business_df = pd.DataFrame(business_data)"
   ]
  },
  {
   "cell_type": "code",
   "execution_count": 9,
   "metadata": {
    "collapsed": true
   },
   "outputs": [],
   "source": [
    "business_df = pd.read_csv(\"all_business.csv\")"
   ]
  },
  {
   "cell_type": "code",
   "execution_count": 10,
   "metadata": {
    "collapsed": false
   },
   "outputs": [
    {
     "name": "stdout",
     "output_type": "stream",
     "text": [
      "<class 'pandas.core.frame.DataFrame'>\n",
      "RangeIndex: 85901 entries, 0 to 85900\n",
      "Data columns (total 15 columns):\n",
      "attributes       85901 non-null object\n",
      "business_id      85901 non-null object\n",
      "categories       85901 non-null object\n",
      "city             85899 non-null object\n",
      "full_address     85901 non-null object\n",
      "hours            85901 non-null object\n",
      "latitude         85901 non-null float64\n",
      "longitude        85901 non-null float64\n",
      "name             85901 non-null object\n",
      "neighborhoods    85901 non-null object\n",
      "open             85901 non-null bool\n",
      "review_count     85901 non-null int64\n",
      "stars            85901 non-null float64\n",
      "state            85900 non-null object\n",
      "type             85901 non-null object\n",
      "dtypes: bool(1), float64(3), int64(1), object(10)\n",
      "memory usage: 9.3+ MB\n"
     ]
    }
   ],
   "source": [
    "business_df.info()"
   ]
  },
  {
   "cell_type": "code",
   "execution_count": 11,
   "metadata": {
    "collapsed": true
   },
   "outputs": [],
   "source": [
    "#category = pd.DataFrame(business_df.pop('categories').tolist())"
   ]
  },
  {
   "cell_type": "code",
   "execution_count": 12,
   "metadata": {
    "collapsed": true
   },
   "outputs": [],
   "source": [
    "#bus_df = business_df.join(category, rsuffix=\"_category\")"
   ]
  },
  {
   "cell_type": "code",
   "execution_count": 13,
   "metadata": {
    "collapsed": false
   },
   "outputs": [],
   "source": [
    "# select business in restaurant categories\n",
    "business_sel_df = business_df[business_df['categories'].apply(str).str.contains(\"Restaurants\")]"
   ]
  },
  {
   "cell_type": "code",
   "execution_count": 14,
   "metadata": {
    "collapsed": false
   },
   "outputs": [
    {
     "name": "stdout",
     "output_type": "stream",
     "text": [
      "<class 'pandas.core.frame.DataFrame'>\n",
      "Int64Index: 26729 entries, 0 to 85900\n",
      "Data columns (total 15 columns):\n",
      "attributes       26729 non-null object\n",
      "business_id      26729 non-null object\n",
      "categories       26729 non-null object\n",
      "city             26729 non-null object\n",
      "full_address     26729 non-null object\n",
      "hours            26729 non-null object\n",
      "latitude         26729 non-null float64\n",
      "longitude        26729 non-null float64\n",
      "name             26729 non-null object\n",
      "neighborhoods    26729 non-null object\n",
      "open             26729 non-null bool\n",
      "review_count     26729 non-null int64\n",
      "stars            26729 non-null float64\n",
      "state            26728 non-null object\n",
      "type             26729 non-null object\n",
      "dtypes: bool(1), float64(3), int64(1), object(10)\n",
      "memory usage: 3.1+ MB\n"
     ]
    }
   ],
   "source": [
    "business_sel_df.info()"
   ]
  },
  {
   "cell_type": "code",
   "execution_count": 15,
   "metadata": {
    "collapsed": false
   },
   "outputs": [],
   "source": [
    "business = business_sel_df.drop(['type', 'categories', 'attributes', 'hours', 'neighborhoods','open'], axis=1)"
   ]
  },
  {
   "cell_type": "code",
   "execution_count": 16,
   "metadata": {
    "collapsed": false
   },
   "outputs": [
    {
     "name": "stdout",
     "output_type": "stream",
     "text": [
      "<class 'pandas.core.frame.DataFrame'>\n",
      "Int64Index: 26729 entries, 0 to 85900\n",
      "Data columns (total 9 columns):\n",
      "business_id     26729 non-null object\n",
      "city            26729 non-null object\n",
      "full_address    26729 non-null object\n",
      "latitude        26729 non-null float64\n",
      "longitude       26729 non-null float64\n",
      "name            26729 non-null object\n",
      "review_count    26729 non-null int64\n",
      "stars           26729 non-null float64\n",
      "state           26728 non-null object\n",
      "dtypes: float64(3), int64(1), object(5)\n",
      "memory usage: 2.0+ MB\n"
     ]
    }
   ],
   "source": [
    "business.info()"
   ]
  },
  {
   "cell_type": "code",
   "execution_count": 17,
   "metadata": {
    "collapsed": false
   },
   "outputs": [],
   "source": [
    "business.to_csv(\"business.csv\", index = False)"
   ]
  },
  {
   "cell_type": "markdown",
   "metadata": {},
   "source": [
    "# Generate city_state table "
   ]
  },
  {
   "cell_type": "code",
   "execution_count": 17,
   "metadata": {
    "collapsed": false
   },
   "outputs": [],
   "source": [
    "business['state'] = business['state'].fillna(\"QC\")"
   ]
  },
  {
   "cell_type": "code",
   "execution_count": 18,
   "metadata": {
    "collapsed": true
   },
   "outputs": [],
   "source": [
    "city_state = business[['city','state']].drop_duplicates()"
   ]
  },
  {
   "cell_type": "code",
   "execution_count": 20,
   "metadata": {
    "collapsed": false
   },
   "outputs": [],
   "source": [
    "city_state.to_csv(\"city_state.csv\", index = False)"
   ]
  },
  {
   "cell_type": "markdown",
   "metadata": {},
   "source": [
    "# Generate business_attrbutes table "
   ]
  },
  {
   "cell_type": "code",
   "execution_count": 71,
   "metadata": {
    "collapsed": true
   },
   "outputs": [],
   "source": [
    "attribute = pd.DataFrame(business_sel_df['attributes'])"
   ]
  },
  {
   "cell_type": "code",
   "execution_count": 72,
   "metadata": {
    "collapsed": false
   },
   "outputs": [
    {
     "name": "stdout",
     "output_type": "stream",
     "text": [
      "                                           attributes\n",
      "0   {'Caters': False, 'Good for Kids': True, 'Good...\n",
      "3   {'Smoking': 'no', 'Happy Hour': False, 'Ambien...\n",
      "5   {'Smoking': 'outdoor', 'Happy Hour': True, 'Am...\n",
      "12  {'Attire': 'casual', 'Takes Reservations': Fal...\n",
      "17  {'Attire': 'casual', 'Happy Hour': True, 'Ambi...\n",
      "18  {'Attire': 'casual', 'Ambience': {'upscale': F...\n",
      "19  {'Attire': 'casual', 'Takes Reservations': Fal...\n",
      "21  {'Music': {'karaoke': False, 'background_music...\n",
      "22                                                 {}\n",
      "24  {'Caters': False, 'Attire': 'casual', 'Good fo...\n"
     ]
    }
   ],
   "source": [
    "print(attribute[:10])"
   ]
  },
  {
   "cell_type": "code",
   "execution_count": 73,
   "metadata": {
    "collapsed": true
   },
   "outputs": [],
   "source": [
    "attr_json = attribute['attributes'].to_json(orient='columns')"
   ]
  },
  {
   "cell_type": "code",
   "execution_count": 74,
   "metadata": {
    "collapsed": false
   },
   "outputs": [
    {
     "data": {
      "text/plain": [
       "'{\"0\":{\"Caters\":false,\"Good for Kids\":true,\"Good For\":{\"lunch\":false,\"latenight\":false,\"breakfast\":false,\"brunch\":false,\"dinner\":false,\"dessert\":false},\"Ambience\":{\"upscale\":false,\"romantic\":false,\"intimate\":false,\"divey\":false,\"hipster\":false,\"classy\":false,\"touristy\":false,\"casual\":false,\"trendy\":false},\"Attire\":\"casual\",\"Outdoor Seating\":false,\"Price Range\":1,\"Good For Groups\":true,\"Noise Level\":\"average\",\"Delivery\":false,\"Takes Reservations\":false,\"Take-out\":true,\"Drive-Thru\":false,\"Accepts Credit Cards\":true,\"Waiter Service\":false,\"Alcohol\":\"none\",\"Parking\":{\"street\":false,\"valet\":false,\"garage\":false,\"lot\":false,\"validated\":false},\"Has TV\":false},\"3\":{\"Smoking\":\"no\",\"Happy Hour\":false,\"Ambience\":{\"upscale\":false,\"romantic\":false,\"intimate\":false,\"divey\":true,\"hipster\":false,\"classy\":false,\"touristy\":false,\"casual\":false,\"trendy\":false},\"Attire\":\"casual\",\"Good For Dancing\":false,\"Outdoor Seating\":false,\"Good for Kids\":true,\"Price Range\":2,\"Good For\":{\"lunch\":true,\"latenight\":false,'"
      ]
     },
     "execution_count": 74,
     "metadata": {},
     "output_type": "execute_result"
    }
   ],
   "source": [
    "attr_json[:1000]"
   ]
  },
  {
   "cell_type": "code",
   "execution_count": 75,
   "metadata": {
    "collapsed": true
   },
   "outputs": [],
   "source": [
    "attr_data = pd.read_json(attr_json, orient='index')"
   ]
  },
  {
   "cell_type": "code",
   "execution_count": 76,
   "metadata": {
    "collapsed": true
   },
   "outputs": [],
   "source": [
    "attr_data = pd.DataFrame(attr_data).sort_index()"
   ]
  },
  {
   "cell_type": "code",
   "execution_count": 81,
   "metadata": {
    "collapsed": true
   },
   "outputs": [],
   "source": [
    "attr_data['business_id'] = business_sel_df['business_id']"
   ]
  },
  {
   "cell_type": "code",
   "execution_count": 83,
   "metadata": {
    "collapsed": false
   },
   "outputs": [
    {
     "name": "stdout",
     "output_type": "stream",
     "text": [
      "    Accepts Credit Cards  Accepts Insurance Ages Allowed   Alcohol  \\\n",
      "0                    1.0                NaN          NaN      none   \n",
      "3                    1.0                NaN          NaN  full_bar   \n",
      "5                    1.0                NaN          NaN  full_bar   \n",
      "12                   1.0                NaN          NaN      none   \n",
      "17                   1.0                NaN          NaN  full_bar   \n",
      "18                   0.0                NaN          NaN      none   \n",
      "19                   1.0                NaN          NaN      none   \n",
      "21                   1.0                NaN          NaN  full_bar   \n",
      "22                   NaN                NaN          NaN       NaN   \n",
      "24                   1.0                NaN          NaN      none   \n",
      "\n",
      "                                             Ambience  Attire  BYOB  \\\n",
      "0   {'upscale': False, 'intimate': False, 'divey':...  casual   NaN   \n",
      "3   {'upscale': False, 'intimate': False, 'divey':...  casual   NaN   \n",
      "5   {'upscale': False, 'intimate': False, 'divey':...  casual   NaN   \n",
      "12                                                NaN  casual   NaN   \n",
      "17  {'upscale': False, 'intimate': False, 'divey':...  casual   NaN   \n",
      "18  {'upscale': False, 'intimate': False, 'divey':...  casual   0.0   \n",
      "19  {'upscale': False, 'intimate': False, 'divey':...  casual   NaN   \n",
      "21  {'upscale': False, 'intimate': False, 'divey':...  casual   NaN   \n",
      "22                                                NaN     NaN   NaN   \n",
      "24  {'upscale': False, 'intimate': False, 'divey':...  casual   NaN   \n",
      "\n",
      "   BYOB/Corkage  By Appointment Only  Caters           ...            \\\n",
      "0           NaN                  NaN     0.0           ...             \n",
      "3           NaN                  NaN     1.0           ...             \n",
      "5           NaN                  NaN     0.0           ...             \n",
      "12          NaN                  NaN     NaN           ...             \n",
      "17          NaN                  NaN     0.0           ...             \n",
      "18     yes_free                  NaN     0.0           ...             \n",
      "19          NaN                  NaN     NaN           ...             \n",
      "21          NaN                  NaN     NaN           ...             \n",
      "22          NaN                  NaN     NaN           ...             \n",
      "24          NaN                  NaN     0.0           ...             \n",
      "\n",
      "    Outdoor Seating                                            Parking  \\\n",
      "0               0.0  {'street': False, 'valet': False, 'garage': Fa...   \n",
      "3               0.0  {'street': False, 'valet': False, 'garage': Fa...   \n",
      "5               1.0  {'street': False, 'valet': False, 'garage': Fa...   \n",
      "12              0.0  {'street': False, 'valet': False, 'garage': Fa...   \n",
      "17              0.0  {'street': False, 'valet': False, 'garage': Fa...   \n",
      "18              0.0  {'street': False, 'valet': False, 'garage': Fa...   \n",
      "19              0.0  {'street': False, 'valet': False, 'garage': Fa...   \n",
      "21              1.0  {'street': True, 'valet': False, 'garage': Fal...   \n",
      "22              NaN                                                NaN   \n",
      "24              0.0  {'street': False, 'valet': False, 'garage': Fa...   \n",
      "\n",
      "    Price Range  Smoking  Take-out  Takes Reservations Waiter Service  \\\n",
      "0           1.0      NaN       1.0                 0.0            0.0   \n",
      "3           2.0       no       1.0                 0.0            1.0   \n",
      "5           1.0  outdoor       1.0                 0.0            1.0   \n",
      "12          1.0      NaN       1.0                 0.0            1.0   \n",
      "17          1.0       no       1.0                 0.0            1.0   \n",
      "18          1.0      NaN       1.0                 0.0            1.0   \n",
      "19          1.0      NaN       1.0                 0.0            1.0   \n",
      "21          2.0      NaN       1.0                 0.0            1.0   \n",
      "22          NaN      NaN       NaN                 NaN            NaN   \n",
      "24          1.0      NaN       1.0                 0.0            0.0   \n",
      "\n",
      "    Wheelchair Accessible  Wi-Fi             business_id  \n",
      "0                     NaN    NaN  5UmKMjUEUNdYWqANhGckJw  \n",
      "3                     NaN     no  mVHrayjG3uZ_RLHkLj-AMg  \n",
      "5                     NaN   free  KayYbHCt-RkbGcPdGOThNg  \n",
      "12                    1.0    NaN  wJr6kSA5dchdgOdwH6dZ2w  \n",
      "17                    1.0   free  fNGIbpazjTRdXgwRY_NIXA  \n",
      "18                    0.0     no  b9WZJp5L1RZr4F1nxclOoQ  \n",
      "19                    NaN    NaN  zaXDakTd3RXyOa7sMrUE1g  \n",
      "21                    NaN    NaN  WETE_LykpcnrC1sFcQ5EGg  \n",
      "22                    NaN    NaN  6o3RK6rTcN3nw-j-r2nQmA  \n",
      "24                    1.0     no  rv7CY8G_XibTx82YhuqQRw  \n",
      "\n",
      "[10 rows x 36 columns]\n"
     ]
    }
   ],
   "source": [
    "print(attr_data[:10])"
   ]
  },
  {
   "cell_type": "code",
   "execution_count": 86,
   "metadata": {
    "collapsed": false
   },
   "outputs": [],
   "source": [
    "attr_id = attr_data.set_index('business_id').stack().reset_index()"
   ]
  },
  {
   "cell_type": "code",
   "execution_count": 89,
   "metadata": {
    "collapsed": false
   },
   "outputs": [],
   "source": [
    "attr_id = attr_id.rename(columns={'level_1':'attribute_name', 0:'attribute_value'})"
   ]
  },
  {
   "cell_type": "code",
   "execution_count": 93,
   "metadata": {
    "collapsed": false
   },
   "outputs": [],
   "source": [
    "attr_id.to_csv(\"business_attributes.csv\", index = False)"
   ]
  },
  {
   "cell_type": "code",
   "execution_count": 90,
   "metadata": {
    "collapsed": false,
    "scrolled": true
   },
   "outputs": [
    {
     "name": "stdout",
     "output_type": "stream",
     "text": [
      "               business_id        attribute_name  \\\n",
      "0   5UmKMjUEUNdYWqANhGckJw  Accepts Credit Cards   \n",
      "1   5UmKMjUEUNdYWqANhGckJw               Alcohol   \n",
      "2   5UmKMjUEUNdYWqANhGckJw              Ambience   \n",
      "3   5UmKMjUEUNdYWqANhGckJw                Attire   \n",
      "4   5UmKMjUEUNdYWqANhGckJw                Caters   \n",
      "5   5UmKMjUEUNdYWqANhGckJw              Delivery   \n",
      "6   5UmKMjUEUNdYWqANhGckJw            Drive-Thru   \n",
      "7   5UmKMjUEUNdYWqANhGckJw              Good For   \n",
      "8   5UmKMjUEUNdYWqANhGckJw       Good For Groups   \n",
      "9   5UmKMjUEUNdYWqANhGckJw         Good for Kids   \n",
      "10  5UmKMjUEUNdYWqANhGckJw                Has TV   \n",
      "11  5UmKMjUEUNdYWqANhGckJw           Noise Level   \n",
      "12  5UmKMjUEUNdYWqANhGckJw       Outdoor Seating   \n",
      "13  5UmKMjUEUNdYWqANhGckJw               Parking   \n",
      "14  5UmKMjUEUNdYWqANhGckJw           Price Range   \n",
      "15  5UmKMjUEUNdYWqANhGckJw              Take-out   \n",
      "16  5UmKMjUEUNdYWqANhGckJw    Takes Reservations   \n",
      "17  5UmKMjUEUNdYWqANhGckJw        Waiter Service   \n",
      "18  mVHrayjG3uZ_RLHkLj-AMg  Accepts Credit Cards   \n",
      "19  mVHrayjG3uZ_RLHkLj-AMg               Alcohol   \n",
      "\n",
      "                                      attribute_value  \n",
      "0                                                   1  \n",
      "1                                                none  \n",
      "2   {'upscale': False, 'intimate': False, 'divey':...  \n",
      "3                                              casual  \n",
      "4                                                   0  \n",
      "5                                                   0  \n",
      "6                                                   0  \n",
      "7   {'lunch': False, 'latenight': False, 'breakfas...  \n",
      "8                                                   1  \n",
      "9                                                   1  \n",
      "10                                                  0  \n",
      "11                                            average  \n",
      "12                                                  0  \n",
      "13  {'street': False, 'valet': False, 'garage': Fa...  \n",
      "14                                                  1  \n",
      "15                                                  1  \n",
      "16                                                  0  \n",
      "17                                                  0  \n",
      "18                                                  1  \n",
      "19                                           full_bar  \n"
     ]
    }
   ],
   "source": [
    "print(attr_id[:20])"
   ]
  },
  {
   "cell_type": "code",
   "execution_count": 28,
   "metadata": {
    "collapsed": true
   },
   "outputs": [],
   "source": [
    "attributes = pd.read_csv(\"business_attributes.csv\")"
   ]
  },
  {
   "cell_type": "code",
   "execution_count": 29,
   "metadata": {
    "collapsed": false,
    "scrolled": true
   },
   "outputs": [
    {
     "name": "stdout",
     "output_type": "stream",
     "text": [
      "<class 'pandas.core.frame.DataFrame'>\n",
      "RangeIndex: 438445 entries, 0 to 438444\n",
      "Data columns (total 3 columns):\n",
      "business_id        438445 non-null object\n",
      "attribute_name     438445 non-null object\n",
      "attribute_value    438445 non-null object\n",
      "dtypes: object(3)\n",
      "memory usage: 10.0+ MB\n"
     ]
    }
   ],
   "source": [
    "attributes.info()"
   ]
  },
  {
   "cell_type": "code",
   "execution_count": 41,
   "metadata": {
    "collapsed": false
   },
   "outputs": [],
   "source": [
    "attr = attributes[~attributes['attribute_value'].apply(str).str.contains(\"{\")]"
   ]
  },
  {
   "cell_type": "code",
   "execution_count": 46,
   "metadata": {
    "collapsed": false
   },
   "outputs": [
    {
     "name": "stdout",
     "output_type": "stream",
     "text": [
      "               business_id        attribute_name attribute_value\n",
      "0   5UmKMjUEUNdYWqANhGckJw  Accepts Credit Cards            true\n",
      "1   5UmKMjUEUNdYWqANhGckJw               Alcohol            none\n",
      "3   5UmKMjUEUNdYWqANhGckJw                Attire          casual\n",
      "4   5UmKMjUEUNdYWqANhGckJw                Caters           false\n",
      "5   5UmKMjUEUNdYWqANhGckJw              Delivery           false\n",
      "6   5UmKMjUEUNdYWqANhGckJw            Drive-Thru           false\n",
      "8   5UmKMjUEUNdYWqANhGckJw       Good For Groups            true\n",
      "9   5UmKMjUEUNdYWqANhGckJw         Good for Kids            true\n",
      "10  5UmKMjUEUNdYWqANhGckJw                Has TV           false\n",
      "11  5UmKMjUEUNdYWqANhGckJw           Noise Level         average\n",
      "12  5UmKMjUEUNdYWqANhGckJw       Outdoor Seating           false\n",
      "14  5UmKMjUEUNdYWqANhGckJw           Price Range            true\n",
      "15  5UmKMjUEUNdYWqANhGckJw              Take-out            true\n",
      "16  5UmKMjUEUNdYWqANhGckJw    Takes Reservations           false\n",
      "17  5UmKMjUEUNdYWqANhGckJw        Waiter Service           false\n",
      "18  mVHrayjG3uZ_RLHkLj-AMg  Accepts Credit Cards            true\n",
      "19  mVHrayjG3uZ_RLHkLj-AMg               Alcohol        full_bar\n",
      "21  mVHrayjG3uZ_RLHkLj-AMg                Attire          casual\n",
      "22  mVHrayjG3uZ_RLHkLj-AMg                Caters            true\n",
      "23  mVHrayjG3uZ_RLHkLj-AMg            Coat Check           false\n"
     ]
    }
   ],
   "source": [
    "print(attr[:20])"
   ]
  },
  {
   "cell_type": "code",
   "execution_count": 45,
   "metadata": {
    "collapsed": false
   },
   "outputs": [
    {
     "name": "stderr",
     "output_type": "stream",
     "text": [
      "/Users/eeriee/anaconda3/lib/python3.5/site-packages/pandas/core/generic.py:4485: SettingWithCopyWarning: \n",
      "A value is trying to be set on a copy of a slice from a DataFrame\n",
      "\n",
      "See the caveats in the documentation: http://pandas.pydata.org/pandas-docs/stable/indexing.html#indexing-view-versus-copy\n",
      "  self._update_inplace(new_data)\n",
      "/Users/eeriee/anaconda3/lib/python3.5/site-packages/IPython/core/interactiveshell.py:2881: SettingWithCopyWarning: \n",
      "A value is trying to be set on a copy of a slice from a DataFrame\n",
      "\n",
      "See the caveats in the documentation: http://pandas.pydata.org/pandas-docs/stable/indexing.html#indexing-view-versus-copy\n",
      "  exec(code_obj, self.user_global_ns, self.user_ns)\n"
     ]
    }
   ],
   "source": [
    "attr['attribute_value'][attr['attribute_value'] == '1.0'] = 'true'\n",
    "attr['attribute_value'][attr['attribute_value'] == '0.0'] = 'false'"
   ]
  },
  {
   "cell_type": "code",
   "execution_count": 47,
   "metadata": {
    "collapsed": true
   },
   "outputs": [],
   "source": [
    "attr.to_csv(\"business_attributes.csv\", index = False)"
   ]
  },
  {
   "cell_type": "markdown",
   "metadata": {},
   "source": [
    "# Generate business_category table"
   ]
  },
  {
   "cell_type": "code",
   "execution_count": 94,
   "metadata": {
    "collapsed": true
   },
   "outputs": [],
   "source": [
    "bus_cat = business_sel_df[['business_id', 'categories']]"
   ]
  },
  {
   "cell_type": "code",
   "execution_count": 95,
   "metadata": {
    "collapsed": false
   },
   "outputs": [
    {
     "name": "stdout",
     "output_type": "stream",
     "text": [
      "               business_id                                         categories\n",
      "0   5UmKMjUEUNdYWqANhGckJw                           [Fast Food, Restaurants]\n",
      "3   mVHrayjG3uZ_RLHkLj-AMg  [Bars, American (New), Nightlife, Lounges, Res...\n",
      "5   KayYbHCt-RkbGcPdGOThNg  [Bars, American (Traditional), Nightlife, Rest...\n",
      "12  wJr6kSA5dchdgOdwH6dZ2w  [Burgers, Breakfast & Brunch, American (Tradit...\n",
      "17  fNGIbpazjTRdXgwRY_NIXA  [Bars, American (Traditional), Nightlife, Loun...\n",
      "18  b9WZJp5L1RZr4F1nxclOoQ      [Breakfast & Brunch, Sandwiches, Restaurants]\n",
      "19  zaXDakTd3RXyOa7sMrUE1g                               [Cafes, Restaurants]\n",
      "21  WETE_LykpcnrC1sFcQ5EGg        [Pubs, Irish, Nightlife, Bars, Restaurants]\n",
      "22  6o3RK6rTcN3nw-j-r2nQmA                               [Pizza, Restaurants]\n",
      "24  rv7CY8G_XibTx82YhuqQRw                                      [Restaurants]\n"
     ]
    }
   ],
   "source": [
    "print(bus_cat[:10])"
   ]
  },
  {
   "cell_type": "code",
   "execution_count": 96,
   "metadata": {
    "collapsed": false
   },
   "outputs": [
    {
     "name": "stdout",
     "output_type": "stream",
     "text": [
      "<class 'pandas.core.frame.DataFrame'>\n",
      "Int64Index: 26729 entries, 0 to 85900\n",
      "Data columns (total 2 columns):\n",
      "business_id    26729 non-null object\n",
      "categories     26729 non-null object\n",
      "dtypes: object(2)\n",
      "memory usage: 626.5+ KB\n"
     ]
    }
   ],
   "source": [
    "bus_cat.info()"
   ]
  },
  {
   "cell_type": "code",
   "execution_count": 97,
   "metadata": {
    "collapsed": true
   },
   "outputs": [],
   "source": [
    "bus_cat.to_csv(\"business_category.csv\", indebx=False)"
   ]
  },
  {
   "cell_type": "code",
   "execution_count": null,
   "metadata": {
    "collapsed": true
   },
   "outputs": [],
   "source": [
    "bus_cat.read_csv(\"business_category.csv\", indebx=False)"
   ]
  },
  {
   "cell_type": "markdown",
   "metadata": {},
   "source": [
    "# Generate business_hours table "
   ]
  },
  {
   "cell_type": "code",
   "execution_count": 99,
   "metadata": {
    "collapsed": true
   },
   "outputs": [],
   "source": [
    "bus_hours_json = business_sel_df['hours'].to_json(orient='columns')"
   ]
  },
  {
   "cell_type": "code",
   "execution_count": 101,
   "metadata": {
    "collapsed": false
   },
   "outputs": [],
   "source": [
    "bus_hours = pd.read_json(bus_hours_json, orient='index')"
   ]
  },
  {
   "cell_type": "code",
   "execution_count": 104,
   "metadata": {
    "collapsed": false
   },
   "outputs": [],
   "source": [
    "bus_hours = pd.DataFrame(bus_hours).sort_index()"
   ]
  },
  {
   "cell_type": "code",
   "execution_count": 107,
   "metadata": {
    "collapsed": false
   },
   "outputs": [],
   "source": [
    "bus_hours = bus_hours.fillna('close all day')"
   ]
  },
  {
   "cell_type": "code",
   "execution_count": 109,
   "metadata": {
    "collapsed": false
   },
   "outputs": [],
   "source": [
    "bus_hours['business_id'] = business_sel_df['business_id']"
   ]
  },
  {
   "cell_type": "code",
   "execution_count": 110,
   "metadata": {
    "collapsed": false
   },
   "outputs": [
    {
     "name": "stdout",
     "output_type": "stream",
     "text": [
      "                                 Friday                               Monday  \\\n",
      "0   {'close': '21:00', 'open': '11:00'}  {'close': '21:00', 'open': '11:00'}   \n",
      "3   {'close': '20:00', 'open': '10:00'}                        close all day   \n",
      "5   {'close': '02:00', 'open': '11:00'}  {'close': '02:00', 'open': '11:00'}   \n",
      "12  {'close': '02:00', 'open': '08:00'}  {'close': '02:00', 'open': '08:00'}   \n",
      "17  {'close': '23:00', 'open': '11:00'}  {'close': '23:00', 'open': '11:00'}   \n",
      "18  {'close': '14:30', 'open': '06:00'}  {'close': '14:30', 'open': '06:00'}   \n",
      "19  {'close': '14:00', 'open': '07:00'}  {'close': '14:00', 'open': '07:00'}   \n",
      "21                        close all day                        close all day   \n",
      "22  {'close': '00:00', 'open': '11:00'}  {'close': '22:00', 'open': '11:00'}   \n",
      "24                        close all day                        close all day   \n",
      "\n",
      "                               Saturday                               Sunday  \\\n",
      "0                         close all day                        close all day   \n",
      "3   {'close': '16:00', 'open': '10:00'}                        close all day   \n",
      "5   {'close': '02:00', 'open': '12:00'}  {'close': '22:00', 'open': '12:00'}   \n",
      "12  {'close': '02:00', 'open': '08:00'}  {'close': '02:00', 'open': '08:00'}   \n",
      "17  {'close': '23:00', 'open': '11:00'}                        close all day   \n",
      "18  {'close': '12:30', 'open': '06:00'}  {'close': '12:30', 'open': '07:00'}   \n",
      "19  {'close': '12:00', 'open': '07:00'}                        close all day   \n",
      "21                        close all day                        close all day   \n",
      "22  {'close': '23:00', 'open': '11:00'}  {'close': '22:30', 'open': '12:00'}   \n",
      "24                        close all day                        close all day   \n",
      "\n",
      "                               Thursday                              Tuesday  \\\n",
      "0   {'close': '21:00', 'open': '11:00'}  {'close': '21:00', 'open': '11:00'}   \n",
      "3   {'close': '19:00', 'open': '10:00'}  {'close': '19:00', 'open': '10:00'}   \n",
      "5   {'close': '02:00', 'open': '11:00'}  {'close': '02:00', 'open': '11:00'}   \n",
      "12  {'close': '02:00', 'open': '08:00'}  {'close': '02:00', 'open': '08:00'}   \n",
      "17  {'close': '23:00', 'open': '11:00'}  {'close': '23:00', 'open': '11:00'}   \n",
      "18  {'close': '14:30', 'open': '06:00'}  {'close': '14:30', 'open': '06:00'}   \n",
      "19  {'close': '14:00', 'open': '07:00'}  {'close': '14:00', 'open': '07:00'}   \n",
      "21                        close all day                        close all day   \n",
      "22  {'close': '23:00', 'open': '11:00'}  {'close': '22:00', 'open': '11:00'}   \n",
      "24                        close all day                        close all day   \n",
      "\n",
      "                              Wednesday             business_id  \n",
      "0   {'close': '21:00', 'open': '11:00'}  5UmKMjUEUNdYWqANhGckJw  \n",
      "3   {'close': '19:00', 'open': '10:00'}  mVHrayjG3uZ_RLHkLj-AMg  \n",
      "5   {'close': '02:00', 'open': '11:00'}  KayYbHCt-RkbGcPdGOThNg  \n",
      "12  {'close': '02:00', 'open': '08:00'}  wJr6kSA5dchdgOdwH6dZ2w  \n",
      "17  {'close': '23:00', 'open': '11:00'}  fNGIbpazjTRdXgwRY_NIXA  \n",
      "18  {'close': '14:30', 'open': '06:00'}  b9WZJp5L1RZr4F1nxclOoQ  \n",
      "19  {'close': '14:00', 'open': '07:00'}  zaXDakTd3RXyOa7sMrUE1g  \n",
      "21                        close all day  WETE_LykpcnrC1sFcQ5EGg  \n",
      "22  {'close': '22:00', 'open': '11:00'}  6o3RK6rTcN3nw-j-r2nQmA  \n",
      "24                        close all day  rv7CY8G_XibTx82YhuqQRw  \n"
     ]
    }
   ],
   "source": [
    "print(bus_hours[:10])"
   ]
  },
  {
   "cell_type": "code",
   "execution_count": 111,
   "metadata": {
    "collapsed": true
   },
   "outputs": [],
   "source": [
    "cols = bus_hours.columns.tolist()"
   ]
  },
  {
   "cell_type": "code",
   "execution_count": 112,
   "metadata": {
    "collapsed": false
   },
   "outputs": [
    {
     "data": {
      "text/plain": [
       "['Friday',\n",
       " 'Monday',\n",
       " 'Saturday',\n",
       " 'Sunday',\n",
       " 'Thursday',\n",
       " 'Tuesday',\n",
       " 'Wednesday',\n",
       " 'business_id']"
      ]
     },
     "execution_count": 112,
     "metadata": {},
     "output_type": "execute_result"
    }
   ],
   "source": [
    "cols"
   ]
  },
  {
   "cell_type": "code",
   "execution_count": 115,
   "metadata": {
    "collapsed": true
   },
   "outputs": [],
   "source": [
    "cols = ['business_id',\n",
    " 'Monday',\n",
    " 'Tuesday',\n",
    " 'Wednesday',\n",
    " 'Thursday',\n",
    " 'Friday',\n",
    " 'Saturday',\n",
    " 'Sunday'\n",
    "]"
   ]
  },
  {
   "cell_type": "code",
   "execution_count": 116,
   "metadata": {
    "collapsed": false
   },
   "outputs": [
    {
     "data": {
      "text/plain": [
       "['business_id',\n",
       " 'Monday',\n",
       " 'Tuesday',\n",
       " 'Wednesday',\n",
       " 'Thursday',\n",
       " 'Friday',\n",
       " 'Saturday',\n",
       " 'Sunday']"
      ]
     },
     "execution_count": 116,
     "metadata": {},
     "output_type": "execute_result"
    }
   ],
   "source": [
    "cols"
   ]
  },
  {
   "cell_type": "code",
   "execution_count": 117,
   "metadata": {
    "collapsed": true
   },
   "outputs": [],
   "source": [
    "bus_hours = bus_hours[cols]"
   ]
  },
  {
   "cell_type": "code",
   "execution_count": 118,
   "metadata": {
    "collapsed": false
   },
   "outputs": [
    {
     "name": "stdout",
     "output_type": "stream",
     "text": [
      "               business_id                               Monday  \\\n",
      "0   5UmKMjUEUNdYWqANhGckJw  {'close': '21:00', 'open': '11:00'}   \n",
      "3   mVHrayjG3uZ_RLHkLj-AMg                        close all day   \n",
      "5   KayYbHCt-RkbGcPdGOThNg  {'close': '02:00', 'open': '11:00'}   \n",
      "12  wJr6kSA5dchdgOdwH6dZ2w  {'close': '02:00', 'open': '08:00'}   \n",
      "\n",
      "                                Tuesday                            Wednesday  \\\n",
      "0   {'close': '21:00', 'open': '11:00'}  {'close': '21:00', 'open': '11:00'}   \n",
      "3   {'close': '19:00', 'open': '10:00'}  {'close': '19:00', 'open': '10:00'}   \n",
      "5   {'close': '02:00', 'open': '11:00'}  {'close': '02:00', 'open': '11:00'}   \n",
      "12  {'close': '02:00', 'open': '08:00'}  {'close': '02:00', 'open': '08:00'}   \n",
      "\n",
      "                               Thursday                               Friday  \\\n",
      "0   {'close': '21:00', 'open': '11:00'}  {'close': '21:00', 'open': '11:00'}   \n",
      "3   {'close': '19:00', 'open': '10:00'}  {'close': '20:00', 'open': '10:00'}   \n",
      "5   {'close': '02:00', 'open': '11:00'}  {'close': '02:00', 'open': '11:00'}   \n",
      "12  {'close': '02:00', 'open': '08:00'}  {'close': '02:00', 'open': '08:00'}   \n",
      "\n",
      "                               Saturday                               Sunday  \n",
      "0                         close all day                        close all day  \n",
      "3   {'close': '16:00', 'open': '10:00'}                        close all day  \n",
      "5   {'close': '02:00', 'open': '12:00'}  {'close': '22:00', 'open': '12:00'}  \n",
      "12  {'close': '02:00', 'open': '08:00'}  {'close': '02:00', 'open': '08:00'}  \n"
     ]
    }
   ],
   "source": [
    "print(bus_hours[:4])"
   ]
  },
  {
   "cell_type": "code",
   "execution_count": 119,
   "metadata": {
    "collapsed": true
   },
   "outputs": [],
   "source": [
    "bus_hours.to_csv(\"business_hours.csv\", index = False)"
   ]
  },
  {
   "cell_type": "code",
   "execution_count": 48,
   "metadata": {
    "collapsed": true
   },
   "outputs": [],
   "source": [
    "hours = pd.read_csv(\"business_hours.csv\")"
   ]
  },
  {
   "cell_type": "code",
   "execution_count": 108,
   "metadata": {
    "collapsed": false
   },
   "outputs": [],
   "source": [
    "hours.to_csv(\"business_hours.csv\", index = False)"
   ]
  },
  {
   "cell_type": "code",
   "execution_count": 106,
   "metadata": {
    "collapsed": false
   },
   "outputs": [
    {
     "data": {
      "text/html": [
       "<div>\n",
       "<table border=\"1\" class=\"dataframe\">\n",
       "  <thead>\n",
       "    <tr style=\"text-align: right;\">\n",
       "      <th></th>\n",
       "      <th>business_id</th>\n",
       "      <th>Monday</th>\n",
       "      <th>Tuesday</th>\n",
       "      <th>Wednesday</th>\n",
       "      <th>Thursday</th>\n",
       "      <th>Friday</th>\n",
       "      <th>Saturday</th>\n",
       "      <th>Sunday</th>\n",
       "    </tr>\n",
       "  </thead>\n",
       "  <tbody>\n",
       "    <tr>\n",
       "      <th>0</th>\n",
       "      <td>5UmKMjUEUNdYWqANhGckJw</td>\n",
       "      <td>11:00-21:00</td>\n",
       "      <td>11:00-21:00</td>\n",
       "      <td>11:00-21:00</td>\n",
       "      <td>11:00-21:00</td>\n",
       "      <td>11:00-21:00</td>\n",
       "      <td>11:00-21:00</td>\n",
       "      <td>11:00-21:00</td>\n",
       "    </tr>\n",
       "    <tr>\n",
       "      <th>1</th>\n",
       "      <td>mVHrayjG3uZ_RLHkLj-AMg</td>\n",
       "      <td>close all day</td>\n",
       "      <td>close all day</td>\n",
       "      <td>close all day</td>\n",
       "      <td>close all day</td>\n",
       "      <td>close all day</td>\n",
       "      <td>close all day</td>\n",
       "      <td>close all day</td>\n",
       "    </tr>\n",
       "    <tr>\n",
       "      <th>2</th>\n",
       "      <td>KayYbHCt-RkbGcPdGOThNg</td>\n",
       "      <td>11:00-02:00</td>\n",
       "      <td>11:00-02:00</td>\n",
       "      <td>11:00-02:00</td>\n",
       "      <td>11:00-02:00</td>\n",
       "      <td>11:00-02:00</td>\n",
       "      <td>11:00-02:00</td>\n",
       "      <td>11:00-02:00</td>\n",
       "    </tr>\n",
       "    <tr>\n",
       "      <th>3</th>\n",
       "      <td>wJr6kSA5dchdgOdwH6dZ2w</td>\n",
       "      <td>08:00-02:00</td>\n",
       "      <td>08:00-02:00</td>\n",
       "      <td>08:00-02:00</td>\n",
       "      <td>08:00-02:00</td>\n",
       "      <td>08:00-02:00</td>\n",
       "      <td>08:00-02:00</td>\n",
       "      <td>08:00-02:00</td>\n",
       "    </tr>\n",
       "    <tr>\n",
       "      <th>4</th>\n",
       "      <td>fNGIbpazjTRdXgwRY_NIXA</td>\n",
       "      <td>11:00-23:00</td>\n",
       "      <td>11:00-23:00</td>\n",
       "      <td>11:00-23:00</td>\n",
       "      <td>11:00-23:00</td>\n",
       "      <td>11:00-23:00</td>\n",
       "      <td>11:00-23:00</td>\n",
       "      <td>11:00-23:00</td>\n",
       "    </tr>\n",
       "  </tbody>\n",
       "</table>\n",
       "</div>"
      ],
      "text/plain": [
       "              business_id         Monday        Tuesday      Wednesday  \\\n",
       "0  5UmKMjUEUNdYWqANhGckJw    11:00-21:00    11:00-21:00    11:00-21:00   \n",
       "1  mVHrayjG3uZ_RLHkLj-AMg  close all day  close all day  close all day   \n",
       "2  KayYbHCt-RkbGcPdGOThNg    11:00-02:00    11:00-02:00    11:00-02:00   \n",
       "3  wJr6kSA5dchdgOdwH6dZ2w    08:00-02:00    08:00-02:00    08:00-02:00   \n",
       "4  fNGIbpazjTRdXgwRY_NIXA    11:00-23:00    11:00-23:00    11:00-23:00   \n",
       "\n",
       "        Thursday         Friday       Saturday         Sunday  \n",
       "0    11:00-21:00    11:00-21:00    11:00-21:00    11:00-21:00  \n",
       "1  close all day  close all day  close all day  close all day  \n",
       "2    11:00-02:00    11:00-02:00    11:00-02:00    11:00-02:00  \n",
       "3    08:00-02:00    08:00-02:00    08:00-02:00    08:00-02:00  \n",
       "4    11:00-23:00    11:00-23:00    11:00-23:00    11:00-23:00  "
      ]
     },
     "execution_count": 106,
     "metadata": {},
     "output_type": "execute_result"
    }
   ],
   "source": [
    "hours.head()"
   ]
  },
  {
   "cell_type": "code",
   "execution_count": 104,
   "metadata": {
    "collapsed": false
   },
   "outputs": [],
   "source": [
    "hours['Sunday'] = hours.Monday.apply(lambda d: d.replace('\\'','\"'))"
   ]
  },
  {
   "cell_type": "code",
   "execution_count": 105,
   "metadata": {
    "collapsed": false
   },
   "outputs": [],
   "source": [
    "hours['Sunday'] = hours.Monday.apply(lambda d: '-'.join([d['open'], d['close']]) \n",
    "                          if isinstance(d, dict) else d)"
   ]
  },
  {
   "cell_type": "code",
   "execution_count": 88,
   "metadata": {
    "collapsed": false
   },
   "outputs": [],
   "source": [
    "def stringtodict(d):\n",
    "    if(d.find(\"{\") > -1):\n",
    "        res = json.loads(d)\n",
    "        return '-'.join([res['open'], res['close']])\n",
    "    return d        "
   ]
  },
  {
   "cell_type": "code",
   "execution_count": 60,
   "metadata": {
    "collapsed": false,
    "scrolled": true
   },
   "outputs": [
    {
     "name": "stdout",
     "output_type": "stream",
     "text": [
      "<class 'pandas.core.frame.DataFrame'>\n",
      "RangeIndex: 26729 entries, 0 to 26728\n",
      "Data columns (total 8 columns):\n",
      "business_id    26729 non-null object\n",
      "Monday         26729 non-null object\n",
      "Tuesday        26729 non-null object\n",
      "Wednesday      26729 non-null object\n",
      "Thursday       26729 non-null object\n",
      "Friday         26729 non-null object\n",
      "Saturday       26729 non-null object\n",
      "Sunday         26729 non-null object\n",
      "dtypes: object(8)\n",
      "memory usage: 1.6+ MB\n"
     ]
    }
   ],
   "source": [
    "hours.info()"
   ]
  },
  {
   "cell_type": "markdown",
   "metadata": {},
   "source": [
    "# Generate subcity_city table "
   ]
  },
  {
   "cell_type": "code",
   "execution_count": 122,
   "metadata": {
    "collapsed": true
   },
   "outputs": [],
   "source": [
    "subcity = business_sel_df[['city', 'state']]"
   ]
  },
  {
   "cell_type": "code",
   "execution_count": 123,
   "metadata": {
    "collapsed": true
   },
   "outputs": [],
   "source": [
    "subcity = subcity.drop_duplicates()"
   ]
  },
  {
   "cell_type": "code",
   "execution_count": 124,
   "metadata": {
    "collapsed": false
   },
   "outputs": [
    {
     "data": {
      "text/html": [
       "<div>\n",
       "<table border=\"1\" class=\"dataframe\">\n",
       "  <thead>\n",
       "    <tr style=\"text-align: right;\">\n",
       "      <th></th>\n",
       "      <th>city</th>\n",
       "      <th>state</th>\n",
       "    </tr>\n",
       "  </thead>\n",
       "  <tbody>\n",
       "    <tr>\n",
       "      <th>0</th>\n",
       "      <td>Dravosburg</td>\n",
       "      <td>PA</td>\n",
       "    </tr>\n",
       "    <tr>\n",
       "      <th>3</th>\n",
       "      <td>Braddock</td>\n",
       "      <td>PA</td>\n",
       "    </tr>\n",
       "    <tr>\n",
       "      <th>5</th>\n",
       "      <td>Carnegie</td>\n",
       "      <td>PA</td>\n",
       "    </tr>\n",
       "    <tr>\n",
       "      <th>28</th>\n",
       "      <td>Pittsburgh</td>\n",
       "      <td>PA</td>\n",
       "    </tr>\n",
       "    <tr>\n",
       "      <th>33</th>\n",
       "      <td>Homestead</td>\n",
       "      <td>PA</td>\n",
       "    </tr>\n",
       "    <tr>\n",
       "      <th>40</th>\n",
       "      <td>Munhall</td>\n",
       "      <td>PA</td>\n",
       "    </tr>\n",
       "    <tr>\n",
       "      <th>56</th>\n",
       "      <td>West Homestead</td>\n",
       "      <td>PA</td>\n",
       "    </tr>\n",
       "    <tr>\n",
       "      <th>84</th>\n",
       "      <td>West Mifflin</td>\n",
       "      <td>PA</td>\n",
       "    </tr>\n",
       "    <tr>\n",
       "      <th>92</th>\n",
       "      <td>McKees Rocks</td>\n",
       "      <td>PA</td>\n",
       "    </tr>\n",
       "    <tr>\n",
       "      <th>94</th>\n",
       "      <td>Mc Kees Rocks</td>\n",
       "      <td>PA</td>\n",
       "    </tr>\n",
       "    <tr>\n",
       "      <th>103</th>\n",
       "      <td>Bellvue</td>\n",
       "      <td>PA</td>\n",
       "    </tr>\n",
       "    <tr>\n",
       "      <th>105</th>\n",
       "      <td>Bellevue</td>\n",
       "      <td>PA</td>\n",
       "    </tr>\n",
       "    <tr>\n",
       "      <th>345</th>\n",
       "      <td>Swissvale</td>\n",
       "      <td>PA</td>\n",
       "    </tr>\n",
       "    <tr>\n",
       "      <th>531</th>\n",
       "      <td>Aspinwall</td>\n",
       "      <td>PA</td>\n",
       "    </tr>\n",
       "    <tr>\n",
       "      <th>601</th>\n",
       "      <td>Brookline</td>\n",
       "      <td>PA</td>\n",
       "    </tr>\n",
       "    <tr>\n",
       "      <th>619</th>\n",
       "      <td>Mount Lebanon</td>\n",
       "      <td>PA</td>\n",
       "    </tr>\n",
       "    <tr>\n",
       "      <th>721</th>\n",
       "      <td>Castle Shannon</td>\n",
       "      <td>PA</td>\n",
       "    </tr>\n",
       "    <tr>\n",
       "      <th>784</th>\n",
       "      <td>Belmont</td>\n",
       "      <td>NC</td>\n",
       "    </tr>\n",
       "    <tr>\n",
       "      <th>807</th>\n",
       "      <td>Huntersville</td>\n",
       "      <td>NC</td>\n",
       "    </tr>\n",
       "    <tr>\n",
       "      <th>819</th>\n",
       "      <td>Matthews</td>\n",
       "      <td>NC</td>\n",
       "    </tr>\n",
       "    <tr>\n",
       "      <th>836</th>\n",
       "      <td>Mount Holly</td>\n",
       "      <td>NC</td>\n",
       "    </tr>\n",
       "    <tr>\n",
       "      <th>847</th>\n",
       "      <td>Pineville</td>\n",
       "      <td>NC</td>\n",
       "    </tr>\n",
       "    <tr>\n",
       "      <th>889</th>\n",
       "      <td>Charlotte</td>\n",
       "      <td>NC</td>\n",
       "    </tr>\n",
       "    <tr>\n",
       "      <th>1621</th>\n",
       "      <td>Fort Mill</td>\n",
       "      <td>SC</td>\n",
       "    </tr>\n",
       "    <tr>\n",
       "      <th>1655</th>\n",
       "      <td>Lake Wylie</td>\n",
       "      <td>SC</td>\n",
       "    </tr>\n",
       "    <tr>\n",
       "      <th>1657</th>\n",
       "      <td>Clover</td>\n",
       "      <td>SC</td>\n",
       "    </tr>\n",
       "    <tr>\n",
       "      <th>1658</th>\n",
       "      <td>Rock Hill</td>\n",
       "      <td>SC</td>\n",
       "    </tr>\n",
       "    <tr>\n",
       "      <th>1663</th>\n",
       "      <td>De Forest</td>\n",
       "      <td>WI</td>\n",
       "    </tr>\n",
       "    <tr>\n",
       "      <th>1672</th>\n",
       "      <td>DeForest</td>\n",
       "      <td>WI</td>\n",
       "    </tr>\n",
       "    <tr>\n",
       "      <th>1683</th>\n",
       "      <td>Mc Farland</td>\n",
       "      <td>WI</td>\n",
       "    </tr>\n",
       "    <tr>\n",
       "      <th>...</th>\n",
       "      <td>...</td>\n",
       "      <td>...</td>\n",
       "    </tr>\n",
       "    <tr>\n",
       "      <th>72109</th>\n",
       "      <td>Central City Village</td>\n",
       "      <td>AZ</td>\n",
       "    </tr>\n",
       "    <tr>\n",
       "      <th>72534</th>\n",
       "      <td>Mcfarland</td>\n",
       "      <td>WI</td>\n",
       "    </tr>\n",
       "    <tr>\n",
       "      <th>72558</th>\n",
       "      <td>Arlington</td>\n",
       "      <td>AZ</td>\n",
       "    </tr>\n",
       "    <tr>\n",
       "      <th>72751</th>\n",
       "      <td>North Queensferry</td>\n",
       "      <td>FIF</td>\n",
       "    </tr>\n",
       "    <tr>\n",
       "      <th>72848</th>\n",
       "      <td>Stowe Township</td>\n",
       "      <td>PA</td>\n",
       "    </tr>\n",
       "    <tr>\n",
       "      <th>74280</th>\n",
       "      <td>Sun PrairieÊ</td>\n",
       "      <td>WI</td>\n",
       "    </tr>\n",
       "    <tr>\n",
       "      <th>74308</th>\n",
       "      <td>Scottdale</td>\n",
       "      <td>AZ</td>\n",
       "    </tr>\n",
       "    <tr>\n",
       "      <th>74425</th>\n",
       "      <td>Saint Leonard</td>\n",
       "      <td>QC</td>\n",
       "    </tr>\n",
       "    <tr>\n",
       "      <th>74651</th>\n",
       "      <td>Central</td>\n",
       "      <td>AZ</td>\n",
       "    </tr>\n",
       "    <tr>\n",
       "      <th>74660</th>\n",
       "      <td>Dollard-Des Ormeaux</td>\n",
       "      <td>QC</td>\n",
       "    </tr>\n",
       "    <tr>\n",
       "      <th>74675</th>\n",
       "      <td>Portobello</td>\n",
       "      <td>EDH</td>\n",
       "    </tr>\n",
       "    <tr>\n",
       "      <th>75461</th>\n",
       "      <td>Repentigny</td>\n",
       "      <td>QC</td>\n",
       "    </tr>\n",
       "    <tr>\n",
       "      <th>76450</th>\n",
       "      <td>Dane</td>\n",
       "      <td>WI</td>\n",
       "    </tr>\n",
       "    <tr>\n",
       "      <th>77098</th>\n",
       "      <td>Burrito King</td>\n",
       "      <td>IL</td>\n",
       "    </tr>\n",
       "    <tr>\n",
       "      <th>77167</th>\n",
       "      <td>Squirrel Hill</td>\n",
       "      <td>PA</td>\n",
       "    </tr>\n",
       "    <tr>\n",
       "      <th>78399</th>\n",
       "      <td>Laveen Village</td>\n",
       "      <td>AZ</td>\n",
       "    </tr>\n",
       "    <tr>\n",
       "      <th>79926</th>\n",
       "      <td>La Salle</td>\n",
       "      <td>QC</td>\n",
       "    </tr>\n",
       "    <tr>\n",
       "      <th>79953</th>\n",
       "      <td>Saint-Henri</td>\n",
       "      <td>QC</td>\n",
       "    </tr>\n",
       "    <tr>\n",
       "      <th>80712</th>\n",
       "      <td>Maricopa AZ</td>\n",
       "      <td>AZ</td>\n",
       "    </tr>\n",
       "    <tr>\n",
       "      <th>80950</th>\n",
       "      <td>St-Leonard</td>\n",
       "      <td>QC</td>\n",
       "    </tr>\n",
       "    <tr>\n",
       "      <th>81078</th>\n",
       "      <td>Montreal</td>\n",
       "      <td></td>\n",
       "    </tr>\n",
       "    <tr>\n",
       "      <th>81289</th>\n",
       "      <td>Montreal-Ouest</td>\n",
       "      <td>QC</td>\n",
       "    </tr>\n",
       "    <tr>\n",
       "      <th>81986</th>\n",
       "      <td>Edimbourg</td>\n",
       "      <td>EDH</td>\n",
       "    </tr>\n",
       "    <tr>\n",
       "      <th>83847</th>\n",
       "      <td>Chomedey, Laval</td>\n",
       "      <td>QC</td>\n",
       "    </tr>\n",
       "    <tr>\n",
       "      <th>84130</th>\n",
       "      <td>Blawnox</td>\n",
       "      <td>PA</td>\n",
       "    </tr>\n",
       "    <tr>\n",
       "      <th>85084</th>\n",
       "      <td>Montgomery</td>\n",
       "      <td>NC</td>\n",
       "    </tr>\n",
       "    <tr>\n",
       "      <th>85151</th>\n",
       "      <td>Chandler</td>\n",
       "      <td>AK</td>\n",
       "    </tr>\n",
       "    <tr>\n",
       "      <th>85211</th>\n",
       "      <td>West Las Vegas</td>\n",
       "      <td>NV</td>\n",
       "    </tr>\n",
       "    <tr>\n",
       "      <th>85247</th>\n",
       "      <td>LasVegas</td>\n",
       "      <td>NV</td>\n",
       "    </tr>\n",
       "    <tr>\n",
       "      <th>85713</th>\n",
       "      <td>Fort  Mill</td>\n",
       "      <td>SC</td>\n",
       "    </tr>\n",
       "  </tbody>\n",
       "</table>\n",
       "<p>306 rows × 2 columns</p>\n",
       "</div>"
      ],
      "text/plain": [
       "                       city state\n",
       "0                Dravosburg    PA\n",
       "3                  Braddock    PA\n",
       "5                  Carnegie    PA\n",
       "28               Pittsburgh    PA\n",
       "33                Homestead    PA\n",
       "40                  Munhall    PA\n",
       "56           West Homestead    PA\n",
       "84             West Mifflin    PA\n",
       "92             McKees Rocks    PA\n",
       "94            Mc Kees Rocks    PA\n",
       "103                 Bellvue    PA\n",
       "105                Bellevue    PA\n",
       "345               Swissvale    PA\n",
       "531               Aspinwall    PA\n",
       "601               Brookline    PA\n",
       "619           Mount Lebanon    PA\n",
       "721          Castle Shannon    PA\n",
       "784                 Belmont    NC\n",
       "807            Huntersville    NC\n",
       "819                Matthews    NC\n",
       "836             Mount Holly    NC\n",
       "847               Pineville    NC\n",
       "889               Charlotte    NC\n",
       "1621              Fort Mill    SC\n",
       "1655             Lake Wylie    SC\n",
       "1657                 Clover    SC\n",
       "1658              Rock Hill    SC\n",
       "1663              De Forest    WI\n",
       "1672               DeForest    WI\n",
       "1683             Mc Farland    WI\n",
       "...                     ...   ...\n",
       "72109  Central City Village    AZ\n",
       "72534             Mcfarland    WI\n",
       "72558             Arlington    AZ\n",
       "72751     North Queensferry   FIF\n",
       "72848        Stowe Township    PA\n",
       "74280          Sun PrairieÊ    WI\n",
       "74308             Scottdale    AZ\n",
       "74425         Saint Leonard    QC\n",
       "74651               Central    AZ\n",
       "74660   Dollard-Des Ormeaux    QC\n",
       "74675            Portobello   EDH\n",
       "75461            Repentigny    QC\n",
       "76450                  Dane    WI\n",
       "77098          Burrito King    IL\n",
       "77167         Squirrel Hill    PA\n",
       "78399        Laveen Village    AZ\n",
       "79926              La Salle    QC\n",
       "79953           Saint-Henri    QC\n",
       "80712           Maricopa AZ    AZ\n",
       "80950            St-Leonard    QC\n",
       "81078              Montreal      \n",
       "81289        Montreal-Ouest    QC\n",
       "81986             Edimbourg   EDH\n",
       "83847       Chomedey, Laval    QC\n",
       "84130               Blawnox    PA\n",
       "85084            Montgomery    NC\n",
       "85151              Chandler    AK\n",
       "85211        West Las Vegas    NV\n",
       "85247              LasVegas    NV\n",
       "85713            Fort  Mill    SC\n",
       "\n",
       "[306 rows x 2 columns]"
      ]
     },
     "execution_count": 124,
     "metadata": {},
     "output_type": "execute_result"
    }
   ],
   "source": [
    "subcity"
   ]
  },
  {
   "cell_type": "code",
   "execution_count": 23,
   "metadata": {
    "collapsed": false
   },
   "outputs": [],
   "source": [
    "subcity_city = pd.read_csv(\"subcity_city.csv\",encoding = \"ISO-8859-1\")"
   ]
  },
  {
   "cell_type": "code",
   "execution_count": 24,
   "metadata": {
    "collapsed": false
   },
   "outputs": [
    {
     "name": "stdout",
     "output_type": "stream",
     "text": [
      "      subcity state country        city\n",
      "0  Dravosburg    PA      US  Pittsburgh\n",
      "1    Braddock    PA      US  Pittsburgh\n",
      "2    Carnegie    PA      US  Pittsburgh\n",
      "3  Pittsburgh    PA      US  Pittsburgh\n",
      "4   Homestead    PA      US  Pittsburgh\n"
     ]
    }
   ],
   "source": [
    "print(subcity_city[:5])"
   ]
  },
  {
   "cell_type": "code",
   "execution_count": 25,
   "metadata": {
    "collapsed": true
   },
   "outputs": [],
   "source": [
    "state_country = subcity_city[['state', 'country']].drop_duplicates()"
   ]
  },
  {
   "cell_type": "code",
   "execution_count": 27,
   "metadata": {
    "collapsed": false
   },
   "outputs": [],
   "source": [
    "state_country.to_csv(\"state_country.csv\", index=False)"
   ]
  },
  {
   "cell_type": "code",
   "execution_count": 138,
   "metadata": {
    "collapsed": false
   },
   "outputs": [
    {
     "data": {
      "text/html": [
       "<div>\n",
       "<table border=\"1\" class=\"dataframe\">\n",
       "  <thead>\n",
       "    <tr style=\"text-align: right;\">\n",
       "      <th></th>\n",
       "      <th>country</th>\n",
       "      <th>state</th>\n",
       "      <th>city</th>\n",
       "    </tr>\n",
       "  </thead>\n",
       "  <tbody>\n",
       "    <tr>\n",
       "      <th>0</th>\n",
       "      <td>UK</td>\n",
       "      <td>EDH</td>\n",
       "      <td>Edinburgh</td>\n",
       "    </tr>\n",
       "    <tr>\n",
       "      <th>1</th>\n",
       "      <td>UK</td>\n",
       "      <td>FIF</td>\n",
       "      <td>Edinburgh</td>\n",
       "    </tr>\n",
       "    <tr>\n",
       "      <th>2</th>\n",
       "      <td>Germany</td>\n",
       "      <td>BW</td>\n",
       "      <td>Karlsruhe</td>\n",
       "    </tr>\n",
       "    <tr>\n",
       "      <th>3</th>\n",
       "      <td>Canada</td>\n",
       "      <td>QC</td>\n",
       "      <td>Montreal</td>\n",
       "    </tr>\n",
       "    <tr>\n",
       "      <th>4</th>\n",
       "      <td>Canada</td>\n",
       "      <td>ON</td>\n",
       "      <td>Waterloo</td>\n",
       "    </tr>\n",
       "    <tr>\n",
       "      <th>5</th>\n",
       "      <td>US</td>\n",
       "      <td>PA</td>\n",
       "      <td>Pittsburgh</td>\n",
       "    </tr>\n",
       "    <tr>\n",
       "      <th>6</th>\n",
       "      <td>US</td>\n",
       "      <td>NC</td>\n",
       "      <td>Charlotte</td>\n",
       "    </tr>\n",
       "    <tr>\n",
       "      <th>7</th>\n",
       "      <td>US</td>\n",
       "      <td>SC</td>\n",
       "      <td>Charlotte</td>\n",
       "    </tr>\n",
       "    <tr>\n",
       "      <th>8</th>\n",
       "      <td>US</td>\n",
       "      <td>IL</td>\n",
       "      <td>Urbana-Champaign</td>\n",
       "    </tr>\n",
       "    <tr>\n",
       "      <th>9</th>\n",
       "      <td>US</td>\n",
       "      <td>AZ</td>\n",
       "      <td>Phoenix</td>\n",
       "    </tr>\n",
       "    <tr>\n",
       "      <th>10</th>\n",
       "      <td>US</td>\n",
       "      <td>NV</td>\n",
       "      <td>Las Vegas</td>\n",
       "    </tr>\n",
       "    <tr>\n",
       "      <th>11</th>\n",
       "      <td>US</td>\n",
       "      <td>WI</td>\n",
       "      <td>Madison</td>\n",
       "    </tr>\n",
       "  </tbody>\n",
       "</table>\n",
       "</div>"
      ],
      "text/plain": [
       "    country state              city\n",
       "0        UK   EDH         Edinburgh\n",
       "1        UK   FIF         Edinburgh\n",
       "2   Germany    BW         Karlsruhe\n",
       "3    Canada    QC          Montreal\n",
       "4    Canada    ON          Waterloo\n",
       "5        US    PA        Pittsburgh\n",
       "6        US    NC         Charlotte\n",
       "7        US    SC         Charlotte\n",
       "8        US    IL  Urbana-Champaign\n",
       "9        US    AZ           Phoenix\n",
       "10       US    NV         Las Vegas\n",
       "11       US    WI           Madison"
      ]
     },
     "execution_count": 138,
     "metadata": {},
     "output_type": "execute_result"
    }
   ],
   "source": [
    "city"
   ]
  },
  {
   "cell_type": "code",
   "execution_count": 139,
   "metadata": {
    "collapsed": false
   },
   "outputs": [],
   "source": [
    "subcity_city = pd.merge(subcity, city, on=\"state\", how='left')"
   ]
  },
  {
   "cell_type": "code",
   "execution_count": 140,
   "metadata": {
    "collapsed": false
   },
   "outputs": [
    {
     "data": {
      "text/html": [
       "<div>\n",
       "<table border=\"1\" class=\"dataframe\">\n",
       "  <thead>\n",
       "    <tr style=\"text-align: right;\">\n",
       "      <th></th>\n",
       "      <th>city_x</th>\n",
       "      <th>state</th>\n",
       "      <th>country</th>\n",
       "      <th>city_y</th>\n",
       "    </tr>\n",
       "  </thead>\n",
       "  <tbody>\n",
       "    <tr>\n",
       "      <th>0</th>\n",
       "      <td>Dravosburg</td>\n",
       "      <td>PA</td>\n",
       "      <td>US</td>\n",
       "      <td>Pittsburgh</td>\n",
       "    </tr>\n",
       "    <tr>\n",
       "      <th>1</th>\n",
       "      <td>Braddock</td>\n",
       "      <td>PA</td>\n",
       "      <td>US</td>\n",
       "      <td>Pittsburgh</td>\n",
       "    </tr>\n",
       "    <tr>\n",
       "      <th>2</th>\n",
       "      <td>Carnegie</td>\n",
       "      <td>PA</td>\n",
       "      <td>US</td>\n",
       "      <td>Pittsburgh</td>\n",
       "    </tr>\n",
       "    <tr>\n",
       "      <th>3</th>\n",
       "      <td>Pittsburgh</td>\n",
       "      <td>PA</td>\n",
       "      <td>US</td>\n",
       "      <td>Pittsburgh</td>\n",
       "    </tr>\n",
       "    <tr>\n",
       "      <th>4</th>\n",
       "      <td>Homestead</td>\n",
       "      <td>PA</td>\n",
       "      <td>US</td>\n",
       "      <td>Pittsburgh</td>\n",
       "    </tr>\n",
       "    <tr>\n",
       "      <th>5</th>\n",
       "      <td>Munhall</td>\n",
       "      <td>PA</td>\n",
       "      <td>US</td>\n",
       "      <td>Pittsburgh</td>\n",
       "    </tr>\n",
       "    <tr>\n",
       "      <th>6</th>\n",
       "      <td>West Homestead</td>\n",
       "      <td>PA</td>\n",
       "      <td>US</td>\n",
       "      <td>Pittsburgh</td>\n",
       "    </tr>\n",
       "    <tr>\n",
       "      <th>7</th>\n",
       "      <td>West Mifflin</td>\n",
       "      <td>PA</td>\n",
       "      <td>US</td>\n",
       "      <td>Pittsburgh</td>\n",
       "    </tr>\n",
       "    <tr>\n",
       "      <th>8</th>\n",
       "      <td>McKees Rocks</td>\n",
       "      <td>PA</td>\n",
       "      <td>US</td>\n",
       "      <td>Pittsburgh</td>\n",
       "    </tr>\n",
       "    <tr>\n",
       "      <th>9</th>\n",
       "      <td>Mc Kees Rocks</td>\n",
       "      <td>PA</td>\n",
       "      <td>US</td>\n",
       "      <td>Pittsburgh</td>\n",
       "    </tr>\n",
       "    <tr>\n",
       "      <th>10</th>\n",
       "      <td>Bellvue</td>\n",
       "      <td>PA</td>\n",
       "      <td>US</td>\n",
       "      <td>Pittsburgh</td>\n",
       "    </tr>\n",
       "    <tr>\n",
       "      <th>11</th>\n",
       "      <td>Bellevue</td>\n",
       "      <td>PA</td>\n",
       "      <td>US</td>\n",
       "      <td>Pittsburgh</td>\n",
       "    </tr>\n",
       "    <tr>\n",
       "      <th>12</th>\n",
       "      <td>Swissvale</td>\n",
       "      <td>PA</td>\n",
       "      <td>US</td>\n",
       "      <td>Pittsburgh</td>\n",
       "    </tr>\n",
       "    <tr>\n",
       "      <th>13</th>\n",
       "      <td>Aspinwall</td>\n",
       "      <td>PA</td>\n",
       "      <td>US</td>\n",
       "      <td>Pittsburgh</td>\n",
       "    </tr>\n",
       "    <tr>\n",
       "      <th>14</th>\n",
       "      <td>Brookline</td>\n",
       "      <td>PA</td>\n",
       "      <td>US</td>\n",
       "      <td>Pittsburgh</td>\n",
       "    </tr>\n",
       "    <tr>\n",
       "      <th>15</th>\n",
       "      <td>Mount Lebanon</td>\n",
       "      <td>PA</td>\n",
       "      <td>US</td>\n",
       "      <td>Pittsburgh</td>\n",
       "    </tr>\n",
       "    <tr>\n",
       "      <th>16</th>\n",
       "      <td>Castle Shannon</td>\n",
       "      <td>PA</td>\n",
       "      <td>US</td>\n",
       "      <td>Pittsburgh</td>\n",
       "    </tr>\n",
       "    <tr>\n",
       "      <th>17</th>\n",
       "      <td>Belmont</td>\n",
       "      <td>NC</td>\n",
       "      <td>US</td>\n",
       "      <td>Charlotte</td>\n",
       "    </tr>\n",
       "    <tr>\n",
       "      <th>18</th>\n",
       "      <td>Huntersville</td>\n",
       "      <td>NC</td>\n",
       "      <td>US</td>\n",
       "      <td>Charlotte</td>\n",
       "    </tr>\n",
       "    <tr>\n",
       "      <th>19</th>\n",
       "      <td>Matthews</td>\n",
       "      <td>NC</td>\n",
       "      <td>US</td>\n",
       "      <td>Charlotte</td>\n",
       "    </tr>\n",
       "    <tr>\n",
       "      <th>20</th>\n",
       "      <td>Mount Holly</td>\n",
       "      <td>NC</td>\n",
       "      <td>US</td>\n",
       "      <td>Charlotte</td>\n",
       "    </tr>\n",
       "    <tr>\n",
       "      <th>21</th>\n",
       "      <td>Pineville</td>\n",
       "      <td>NC</td>\n",
       "      <td>US</td>\n",
       "      <td>Charlotte</td>\n",
       "    </tr>\n",
       "    <tr>\n",
       "      <th>22</th>\n",
       "      <td>Charlotte</td>\n",
       "      <td>NC</td>\n",
       "      <td>US</td>\n",
       "      <td>Charlotte</td>\n",
       "    </tr>\n",
       "    <tr>\n",
       "      <th>23</th>\n",
       "      <td>Fort Mill</td>\n",
       "      <td>SC</td>\n",
       "      <td>US</td>\n",
       "      <td>Charlotte</td>\n",
       "    </tr>\n",
       "    <tr>\n",
       "      <th>24</th>\n",
       "      <td>Lake Wylie</td>\n",
       "      <td>SC</td>\n",
       "      <td>US</td>\n",
       "      <td>Charlotte</td>\n",
       "    </tr>\n",
       "    <tr>\n",
       "      <th>25</th>\n",
       "      <td>Clover</td>\n",
       "      <td>SC</td>\n",
       "      <td>US</td>\n",
       "      <td>Charlotte</td>\n",
       "    </tr>\n",
       "    <tr>\n",
       "      <th>26</th>\n",
       "      <td>Rock Hill</td>\n",
       "      <td>SC</td>\n",
       "      <td>US</td>\n",
       "      <td>Charlotte</td>\n",
       "    </tr>\n",
       "    <tr>\n",
       "      <th>27</th>\n",
       "      <td>De Forest</td>\n",
       "      <td>WI</td>\n",
       "      <td>US</td>\n",
       "      <td>Madison</td>\n",
       "    </tr>\n",
       "    <tr>\n",
       "      <th>28</th>\n",
       "      <td>DeForest</td>\n",
       "      <td>WI</td>\n",
       "      <td>US</td>\n",
       "      <td>Madison</td>\n",
       "    </tr>\n",
       "    <tr>\n",
       "      <th>29</th>\n",
       "      <td>Mc Farland</td>\n",
       "      <td>WI</td>\n",
       "      <td>US</td>\n",
       "      <td>Madison</td>\n",
       "    </tr>\n",
       "    <tr>\n",
       "      <th>...</th>\n",
       "      <td>...</td>\n",
       "      <td>...</td>\n",
       "      <td>...</td>\n",
       "      <td>...</td>\n",
       "    </tr>\n",
       "    <tr>\n",
       "      <th>276</th>\n",
       "      <td>Central City Village</td>\n",
       "      <td>AZ</td>\n",
       "      <td>US</td>\n",
       "      <td>Phoenix</td>\n",
       "    </tr>\n",
       "    <tr>\n",
       "      <th>277</th>\n",
       "      <td>Mcfarland</td>\n",
       "      <td>WI</td>\n",
       "      <td>US</td>\n",
       "      <td>Madison</td>\n",
       "    </tr>\n",
       "    <tr>\n",
       "      <th>278</th>\n",
       "      <td>Arlington</td>\n",
       "      <td>AZ</td>\n",
       "      <td>US</td>\n",
       "      <td>Phoenix</td>\n",
       "    </tr>\n",
       "    <tr>\n",
       "      <th>279</th>\n",
       "      <td>North Queensferry</td>\n",
       "      <td>FIF</td>\n",
       "      <td>UK</td>\n",
       "      <td>Edinburgh</td>\n",
       "    </tr>\n",
       "    <tr>\n",
       "      <th>280</th>\n",
       "      <td>Stowe Township</td>\n",
       "      <td>PA</td>\n",
       "      <td>US</td>\n",
       "      <td>Pittsburgh</td>\n",
       "    </tr>\n",
       "    <tr>\n",
       "      <th>281</th>\n",
       "      <td>Sun PrairieÊ</td>\n",
       "      <td>WI</td>\n",
       "      <td>US</td>\n",
       "      <td>Madison</td>\n",
       "    </tr>\n",
       "    <tr>\n",
       "      <th>282</th>\n",
       "      <td>Scottdale</td>\n",
       "      <td>AZ</td>\n",
       "      <td>US</td>\n",
       "      <td>Phoenix</td>\n",
       "    </tr>\n",
       "    <tr>\n",
       "      <th>283</th>\n",
       "      <td>Saint Leonard</td>\n",
       "      <td>QC</td>\n",
       "      <td>Canada</td>\n",
       "      <td>Montreal</td>\n",
       "    </tr>\n",
       "    <tr>\n",
       "      <th>284</th>\n",
       "      <td>Central</td>\n",
       "      <td>AZ</td>\n",
       "      <td>US</td>\n",
       "      <td>Phoenix</td>\n",
       "    </tr>\n",
       "    <tr>\n",
       "      <th>285</th>\n",
       "      <td>Dollard-Des Ormeaux</td>\n",
       "      <td>QC</td>\n",
       "      <td>Canada</td>\n",
       "      <td>Montreal</td>\n",
       "    </tr>\n",
       "    <tr>\n",
       "      <th>286</th>\n",
       "      <td>Portobello</td>\n",
       "      <td>EDH</td>\n",
       "      <td>UK</td>\n",
       "      <td>Edinburgh</td>\n",
       "    </tr>\n",
       "    <tr>\n",
       "      <th>287</th>\n",
       "      <td>Repentigny</td>\n",
       "      <td>QC</td>\n",
       "      <td>Canada</td>\n",
       "      <td>Montreal</td>\n",
       "    </tr>\n",
       "    <tr>\n",
       "      <th>288</th>\n",
       "      <td>Dane</td>\n",
       "      <td>WI</td>\n",
       "      <td>US</td>\n",
       "      <td>Madison</td>\n",
       "    </tr>\n",
       "    <tr>\n",
       "      <th>289</th>\n",
       "      <td>Burrito King</td>\n",
       "      <td>IL</td>\n",
       "      <td>US</td>\n",
       "      <td>Urbana-Champaign</td>\n",
       "    </tr>\n",
       "    <tr>\n",
       "      <th>290</th>\n",
       "      <td>Squirrel Hill</td>\n",
       "      <td>PA</td>\n",
       "      <td>US</td>\n",
       "      <td>Pittsburgh</td>\n",
       "    </tr>\n",
       "    <tr>\n",
       "      <th>291</th>\n",
       "      <td>Laveen Village</td>\n",
       "      <td>AZ</td>\n",
       "      <td>US</td>\n",
       "      <td>Phoenix</td>\n",
       "    </tr>\n",
       "    <tr>\n",
       "      <th>292</th>\n",
       "      <td>La Salle</td>\n",
       "      <td>QC</td>\n",
       "      <td>Canada</td>\n",
       "      <td>Montreal</td>\n",
       "    </tr>\n",
       "    <tr>\n",
       "      <th>293</th>\n",
       "      <td>Saint-Henri</td>\n",
       "      <td>QC</td>\n",
       "      <td>Canada</td>\n",
       "      <td>Montreal</td>\n",
       "    </tr>\n",
       "    <tr>\n",
       "      <th>294</th>\n",
       "      <td>Maricopa AZ</td>\n",
       "      <td>AZ</td>\n",
       "      <td>US</td>\n",
       "      <td>Phoenix</td>\n",
       "    </tr>\n",
       "    <tr>\n",
       "      <th>295</th>\n",
       "      <td>St-Leonard</td>\n",
       "      <td>QC</td>\n",
       "      <td>Canada</td>\n",
       "      <td>Montreal</td>\n",
       "    </tr>\n",
       "    <tr>\n",
       "      <th>296</th>\n",
       "      <td>Montreal</td>\n",
       "      <td></td>\n",
       "      <td>NaN</td>\n",
       "      <td>NaN</td>\n",
       "    </tr>\n",
       "    <tr>\n",
       "      <th>297</th>\n",
       "      <td>Montreal-Ouest</td>\n",
       "      <td>QC</td>\n",
       "      <td>Canada</td>\n",
       "      <td>Montreal</td>\n",
       "    </tr>\n",
       "    <tr>\n",
       "      <th>298</th>\n",
       "      <td>Edimbourg</td>\n",
       "      <td>EDH</td>\n",
       "      <td>UK</td>\n",
       "      <td>Edinburgh</td>\n",
       "    </tr>\n",
       "    <tr>\n",
       "      <th>299</th>\n",
       "      <td>Chomedey, Laval</td>\n",
       "      <td>QC</td>\n",
       "      <td>Canada</td>\n",
       "      <td>Montreal</td>\n",
       "    </tr>\n",
       "    <tr>\n",
       "      <th>300</th>\n",
       "      <td>Blawnox</td>\n",
       "      <td>PA</td>\n",
       "      <td>US</td>\n",
       "      <td>Pittsburgh</td>\n",
       "    </tr>\n",
       "    <tr>\n",
       "      <th>301</th>\n",
       "      <td>Montgomery</td>\n",
       "      <td>NC</td>\n",
       "      <td>US</td>\n",
       "      <td>Charlotte</td>\n",
       "    </tr>\n",
       "    <tr>\n",
       "      <th>302</th>\n",
       "      <td>Chandler</td>\n",
       "      <td>AK</td>\n",
       "      <td>NaN</td>\n",
       "      <td>NaN</td>\n",
       "    </tr>\n",
       "    <tr>\n",
       "      <th>303</th>\n",
       "      <td>West Las Vegas</td>\n",
       "      <td>NV</td>\n",
       "      <td>US</td>\n",
       "      <td>Las Vegas</td>\n",
       "    </tr>\n",
       "    <tr>\n",
       "      <th>304</th>\n",
       "      <td>LasVegas</td>\n",
       "      <td>NV</td>\n",
       "      <td>US</td>\n",
       "      <td>Las Vegas</td>\n",
       "    </tr>\n",
       "    <tr>\n",
       "      <th>305</th>\n",
       "      <td>Fort  Mill</td>\n",
       "      <td>SC</td>\n",
       "      <td>US</td>\n",
       "      <td>Charlotte</td>\n",
       "    </tr>\n",
       "  </tbody>\n",
       "</table>\n",
       "<p>306 rows × 4 columns</p>\n",
       "</div>"
      ],
      "text/plain": [
       "                   city_x state country            city_y\n",
       "0              Dravosburg    PA      US        Pittsburgh\n",
       "1                Braddock    PA      US        Pittsburgh\n",
       "2                Carnegie    PA      US        Pittsburgh\n",
       "3              Pittsburgh    PA      US        Pittsburgh\n",
       "4               Homestead    PA      US        Pittsburgh\n",
       "5                 Munhall    PA      US        Pittsburgh\n",
       "6          West Homestead    PA      US        Pittsburgh\n",
       "7            West Mifflin    PA      US        Pittsburgh\n",
       "8            McKees Rocks    PA      US        Pittsburgh\n",
       "9           Mc Kees Rocks    PA      US        Pittsburgh\n",
       "10                Bellvue    PA      US        Pittsburgh\n",
       "11               Bellevue    PA      US        Pittsburgh\n",
       "12              Swissvale    PA      US        Pittsburgh\n",
       "13              Aspinwall    PA      US        Pittsburgh\n",
       "14              Brookline    PA      US        Pittsburgh\n",
       "15          Mount Lebanon    PA      US        Pittsburgh\n",
       "16         Castle Shannon    PA      US        Pittsburgh\n",
       "17                Belmont    NC      US         Charlotte\n",
       "18           Huntersville    NC      US         Charlotte\n",
       "19               Matthews    NC      US         Charlotte\n",
       "20            Mount Holly    NC      US         Charlotte\n",
       "21              Pineville    NC      US         Charlotte\n",
       "22              Charlotte    NC      US         Charlotte\n",
       "23              Fort Mill    SC      US         Charlotte\n",
       "24             Lake Wylie    SC      US         Charlotte\n",
       "25                 Clover    SC      US         Charlotte\n",
       "26              Rock Hill    SC      US         Charlotte\n",
       "27              De Forest    WI      US           Madison\n",
       "28               DeForest    WI      US           Madison\n",
       "29             Mc Farland    WI      US           Madison\n",
       "..                    ...   ...     ...               ...\n",
       "276  Central City Village    AZ      US           Phoenix\n",
       "277             Mcfarland    WI      US           Madison\n",
       "278             Arlington    AZ      US           Phoenix\n",
       "279     North Queensferry   FIF      UK         Edinburgh\n",
       "280        Stowe Township    PA      US        Pittsburgh\n",
       "281          Sun PrairieÊ    WI      US           Madison\n",
       "282             Scottdale    AZ      US           Phoenix\n",
       "283         Saint Leonard    QC  Canada          Montreal\n",
       "284               Central    AZ      US           Phoenix\n",
       "285   Dollard-Des Ormeaux    QC  Canada          Montreal\n",
       "286            Portobello   EDH      UK         Edinburgh\n",
       "287            Repentigny    QC  Canada          Montreal\n",
       "288                  Dane    WI      US           Madison\n",
       "289          Burrito King    IL      US  Urbana-Champaign\n",
       "290         Squirrel Hill    PA      US        Pittsburgh\n",
       "291        Laveen Village    AZ      US           Phoenix\n",
       "292              La Salle    QC  Canada          Montreal\n",
       "293           Saint-Henri    QC  Canada          Montreal\n",
       "294           Maricopa AZ    AZ      US           Phoenix\n",
       "295            St-Leonard    QC  Canada          Montreal\n",
       "296              Montreal           NaN               NaN\n",
       "297        Montreal-Ouest    QC  Canada          Montreal\n",
       "298             Edimbourg   EDH      UK         Edinburgh\n",
       "299       Chomedey, Laval    QC  Canada          Montreal\n",
       "300               Blawnox    PA      US        Pittsburgh\n",
       "301            Montgomery    NC      US         Charlotte\n",
       "302              Chandler    AK     NaN               NaN\n",
       "303        West Las Vegas    NV      US         Las Vegas\n",
       "304              LasVegas    NV      US         Las Vegas\n",
       "305            Fort  Mill    SC      US         Charlotte\n",
       "\n",
       "[306 rows x 4 columns]"
      ]
     },
     "execution_count": 140,
     "metadata": {},
     "output_type": "execute_result"
    }
   ],
   "source": [
    "subcity_city"
   ]
  },
  {
   "cell_type": "code",
   "execution_count": 141,
   "metadata": {
    "collapsed": true
   },
   "outputs": [],
   "source": [
    "subcity_city.to_csv(\"subcity_city.csv\", index = False)"
   ]
  },
  {
   "cell_type": "code",
   "execution_count": 7,
   "metadata": {
    "collapsed": false
   },
   "outputs": [],
   "source": [
    "state_info = pd.read_csv('subcity_city.csv', encoding = \"ISO-8859-1\")"
   ]
  },
  {
   "cell_type": "code",
   "execution_count": 8,
   "metadata": {
    "collapsed": false
   },
   "outputs": [
    {
     "name": "stdout",
     "output_type": "stream",
     "text": [
      "          subcity state country        city\n",
      "0      Dravosburg    PA      US  Pittsburgh\n",
      "1        Braddock    PA      US  Pittsburgh\n",
      "2        Carnegie    PA      US  Pittsburgh\n",
      "3      Pittsburgh    PA      US  Pittsburgh\n",
      "4       Homestead    PA      US  Pittsburgh\n",
      "5         Munhall    PA      US  Pittsburgh\n",
      "6  West Homestead    PA      US  Pittsburgh\n",
      "7    West Mifflin    PA      US  Pittsburgh\n",
      "8    McKees Rocks    PA      US  Pittsburgh\n",
      "9   Mc Kees Rocks    PA      US  Pittsburgh\n"
     ]
    }
   ],
   "source": [
    "print(state_info[:10])"
   ]
  },
  {
   "cell_type": "code",
   "execution_count": 11,
   "metadata": {
    "collapsed": false,
    "scrolled": true
   },
   "outputs": [
    {
     "data": {
      "text/plain": [
       "array(['PA', 'NC', 'SC', 'WI', 'IL', 'AZ', 'NV', 'FL', 'NM', 'QC', 'ON',\n",
       "       'TX', 'EDH', 'MLN', 'FIF', 'ELN', 'BW', 'RP', 'KHL', 'NW', 'AK'], dtype=object)"
      ]
     },
     "execution_count": 11,
     "metadata": {},
     "output_type": "execute_result"
    }
   ],
   "source": [
    "state = state_info[['state', '']]"
   ]
  },
  {
   "cell_type": "markdown",
   "metadata": {},
   "source": [
    "# Generate university table"
   ]
  },
  {
   "cell_type": "code",
   "execution_count": 18,
   "metadata": {
    "collapsed": true
   },
   "outputs": [],
   "source": [
    "uni = pd.read_csv(\"university.csv\")"
   ]
  },
  {
   "cell_type": "code",
   "execution_count": 22,
   "metadata": {
    "collapsed": true
   },
   "outputs": [],
   "source": [
    "import re\n",
    "import string\n",
    "def genUniID(area, name):\n",
    "    #str2 = ''.join([s if not s in string.punctuation else ' ' for s in name]).split()\n",
    "    #for s in str2:\n",
    "    #    if(len(s) < 3 or s in ['University', 'School', 'College']):\n",
    "    #        continue\n",
    "    #    str1 += s[0:2]\n",
    "    res = str(len(name)) + area[0:3] + name[0:2]\n",
    "    return res"
   ]
  },
  {
   "cell_type": "code",
   "execution_count": 23,
   "metadata": {
    "collapsed": false
   },
   "outputs": [],
   "source": [
    "uni[\"university_id\"] = uni.apply(lambda x: genUniID(x['area'], x['university_name']), axis =1)"
   ]
  },
  {
   "cell_type": "code",
   "execution_count": 24,
   "metadata": {
    "collapsed": false
   },
   "outputs": [
    {
     "data": {
      "text/html": [
       "<div>\n",
       "<table border=\"1\" class=\"dataframe\">\n",
       "  <thead>\n",
       "    <tr style=\"text-align: right;\">\n",
       "      <th></th>\n",
       "      <th>area</th>\n",
       "      <th>university_name</th>\n",
       "      <th>latitude</th>\n",
       "      <th>longitude</th>\n",
       "      <th>university_id</th>\n",
       "    </tr>\n",
       "  </thead>\n",
       "  <tbody>\n",
       "    <tr>\n",
       "      <th>0</th>\n",
       "      <td>Edinburgh</td>\n",
       "      <td>University of Edinburgh</td>\n",
       "      <td>55.949236</td>\n",
       "      <td>-3.188715</td>\n",
       "      <td>23EdiUn</td>\n",
       "    </tr>\n",
       "    <tr>\n",
       "      <th>1</th>\n",
       "      <td>Edinburgh</td>\n",
       "      <td>Heriot-Watt University</td>\n",
       "      <td>55.916008</td>\n",
       "      <td>-3.321408</td>\n",
       "      <td>22EdiHe</td>\n",
       "    </tr>\n",
       "    <tr>\n",
       "      <th>2</th>\n",
       "      <td>Edinburgh</td>\n",
       "      <td>Edinburgh Napier University</td>\n",
       "      <td>55.918727</td>\n",
       "      <td>-3.239828</td>\n",
       "      <td>27EdiEd</td>\n",
       "    </tr>\n",
       "    <tr>\n",
       "      <th>3</th>\n",
       "      <td>Edinburgh</td>\n",
       "      <td>Edinburgh College</td>\n",
       "      <td>55.943907</td>\n",
       "      <td>-3.098522</td>\n",
       "      <td>17EdiEd</td>\n",
       "    </tr>\n",
       "    <tr>\n",
       "      <th>4</th>\n",
       "      <td>Edinburgh</td>\n",
       "      <td>Leith School of Art</td>\n",
       "      <td>55.976253</td>\n",
       "      <td>-3.179793</td>\n",
       "      <td>19EdiLe</td>\n",
       "    </tr>\n",
       "    <tr>\n",
       "      <th>5</th>\n",
       "      <td>Edinburgh</td>\n",
       "      <td>Edinburgh Theological Seminary</td>\n",
       "      <td>55.949951</td>\n",
       "      <td>-3.194276</td>\n",
       "      <td>30EdiEd</td>\n",
       "    </tr>\n",
       "    <tr>\n",
       "      <th>6</th>\n",
       "      <td>Montreal</td>\n",
       "      <td>University of Montreal</td>\n",
       "      <td>45.505563</td>\n",
       "      <td>-73.613722</td>\n",
       "      <td>22MonUn</td>\n",
       "    </tr>\n",
       "    <tr>\n",
       "      <th>7</th>\n",
       "      <td>Montreal</td>\n",
       "      <td>Universite du Quebec a Montreal</td>\n",
       "      <td>45.512576</td>\n",
       "      <td>-73.560669</td>\n",
       "      <td>31MonUn</td>\n",
       "    </tr>\n",
       "    <tr>\n",
       "      <th>8</th>\n",
       "      <td>Montreal</td>\n",
       "      <td>Concordia University - Loyola Campus</td>\n",
       "      <td>45.458009</td>\n",
       "      <td>-73.640334</td>\n",
       "      <td>36MonCo</td>\n",
       "    </tr>\n",
       "    <tr>\n",
       "      <th>9</th>\n",
       "      <td>Montreal</td>\n",
       "      <td>McGill University</td>\n",
       "      <td>45.504956</td>\n",
       "      <td>-73.576181</td>\n",
       "      <td>17MonMc</td>\n",
       "    </tr>\n",
       "    <tr>\n",
       "      <th>10</th>\n",
       "      <td>Montreal</td>\n",
       "      <td>HEC Montreal</td>\n",
       "      <td>45.503351</td>\n",
       "      <td>-73.620334</td>\n",
       "      <td>12MonHE</td>\n",
       "    </tr>\n",
       "    <tr>\n",
       "      <th>11</th>\n",
       "      <td>Montreal</td>\n",
       "      <td>Ecole Polytechnique de Montreal</td>\n",
       "      <td>45.504373</td>\n",
       "      <td>-73.612481</td>\n",
       "      <td>31MonEc</td>\n",
       "    </tr>\n",
       "    <tr>\n",
       "      <th>12</th>\n",
       "      <td>Montreal</td>\n",
       "      <td>Cegep du Vieux Montreal</td>\n",
       "      <td>45.514590</td>\n",
       "      <td>-73.565617</td>\n",
       "      <td>23MonCe</td>\n",
       "    </tr>\n",
       "    <tr>\n",
       "      <th>13</th>\n",
       "      <td>Montreal</td>\n",
       "      <td>Vanier College</td>\n",
       "      <td>45.515161</td>\n",
       "      <td>-73.675044</td>\n",
       "      <td>14MonVa</td>\n",
       "    </tr>\n",
       "    <tr>\n",
       "      <th>14</th>\n",
       "      <td>Montreal</td>\n",
       "      <td>LaSalle College</td>\n",
       "      <td>45.491497</td>\n",
       "      <td>-73.581042</td>\n",
       "      <td>15MonLa</td>\n",
       "    </tr>\n",
       "    <tr>\n",
       "      <th>15</th>\n",
       "      <td>Montreal</td>\n",
       "      <td>College Ahuntsic</td>\n",
       "      <td>45.552116</td>\n",
       "      <td>-73.641415</td>\n",
       "      <td>16MonCo</td>\n",
       "    </tr>\n",
       "    <tr>\n",
       "      <th>16</th>\n",
       "      <td>Pittsburgh</td>\n",
       "      <td>University of Pittsburgh</td>\n",
       "      <td>40.446208</td>\n",
       "      <td>-79.960817</td>\n",
       "      <td>24PitUn</td>\n",
       "    </tr>\n",
       "    <tr>\n",
       "      <th>17</th>\n",
       "      <td>Pittsburgh</td>\n",
       "      <td>Carnegie Mellon University</td>\n",
       "      <td>40.443495</td>\n",
       "      <td>-79.943657</td>\n",
       "      <td>26PitCa</td>\n",
       "    </tr>\n",
       "    <tr>\n",
       "      <th>18</th>\n",
       "      <td>Pittsburgh</td>\n",
       "      <td>Duquesne University</td>\n",
       "      <td>40.436981</td>\n",
       "      <td>-79.990244</td>\n",
       "      <td>19PitDu</td>\n",
       "    </tr>\n",
       "    <tr>\n",
       "      <th>19</th>\n",
       "      <td>Pittsburgh</td>\n",
       "      <td>Point Park University</td>\n",
       "      <td>40.438497</td>\n",
       "      <td>-80.001276</td>\n",
       "      <td>21PitPo</td>\n",
       "    </tr>\n",
       "    <tr>\n",
       "      <th>20</th>\n",
       "      <td>Pittsburgh</td>\n",
       "      <td>Chatham University</td>\n",
       "      <td>40.451304</td>\n",
       "      <td>-79.925514</td>\n",
       "      <td>18PitCh</td>\n",
       "    </tr>\n",
       "    <tr>\n",
       "      <th>21</th>\n",
       "      <td>Pittsburgh</td>\n",
       "      <td>Carlow University</td>\n",
       "      <td>40.438980</td>\n",
       "      <td>-79.963075</td>\n",
       "      <td>17PitCa</td>\n",
       "    </tr>\n",
       "    <tr>\n",
       "      <th>22</th>\n",
       "      <td>Pittsburgh</td>\n",
       "      <td>La Roche College</td>\n",
       "      <td>40.570300</td>\n",
       "      <td>-80.013567</td>\n",
       "      <td>16PitLa</td>\n",
       "    </tr>\n",
       "    <tr>\n",
       "      <th>23</th>\n",
       "      <td>Pittsburgh</td>\n",
       "      <td>The Art Institute of Pittsburgh</td>\n",
       "      <td>40.437348</td>\n",
       "      <td>-79.999608</td>\n",
       "      <td>31PitTh</td>\n",
       "    </tr>\n",
       "    <tr>\n",
       "      <th>24</th>\n",
       "      <td>Pittsburgh</td>\n",
       "      <td>Joseph M. Katz Graduate School of Business</td>\n",
       "      <td>40.440823</td>\n",
       "      <td>-79.953319</td>\n",
       "      <td>42PitJo</td>\n",
       "    </tr>\n",
       "    <tr>\n",
       "      <th>25</th>\n",
       "      <td>Karlsruhe</td>\n",
       "      <td>Karlsruhe Institute of Technology</td>\n",
       "      <td>49.011695</td>\n",
       "      <td>8.430382</td>\n",
       "      <td>33KarKa</td>\n",
       "    </tr>\n",
       "    <tr>\n",
       "      <th>26</th>\n",
       "      <td>Karlsruhe</td>\n",
       "      <td>Hochschule Karlsruhe-Technik und Wirtschaft</td>\n",
       "      <td>49.015856</td>\n",
       "      <td>8.389617</td>\n",
       "      <td>43KarHo</td>\n",
       "    </tr>\n",
       "    <tr>\n",
       "      <th>27</th>\n",
       "      <td>Karlsruhe</td>\n",
       "      <td>Padagogische Hochschule Karlsruhe</td>\n",
       "      <td>49.013310</td>\n",
       "      <td>8.394376</td>\n",
       "      <td>33KarPa</td>\n",
       "    </tr>\n",
       "    <tr>\n",
       "      <th>28</th>\n",
       "      <td>Karlsruhe</td>\n",
       "      <td>Hochschule fur Musik Karlsruhe</td>\n",
       "      <td>49.004575</td>\n",
       "      <td>8.427671</td>\n",
       "      <td>30KarHo</td>\n",
       "    </tr>\n",
       "    <tr>\n",
       "      <th>29</th>\n",
       "      <td>Karlsruhe</td>\n",
       "      <td>Karlsruhe University of Arts and Design</td>\n",
       "      <td>49.001816</td>\n",
       "      <td>8.385647</td>\n",
       "      <td>39KarKa</td>\n",
       "    </tr>\n",
       "    <tr>\n",
       "      <th>...</th>\n",
       "      <td>...</td>\n",
       "      <td>...</td>\n",
       "      <td>...</td>\n",
       "      <td>...</td>\n",
       "      <td>...</td>\n",
       "    </tr>\n",
       "    <tr>\n",
       "      <th>37</th>\n",
       "      <td>Charlotte</td>\n",
       "      <td>Johnson C. Smith University</td>\n",
       "      <td>35.244470</td>\n",
       "      <td>-80.857372</td>\n",
       "      <td>27ChaJo</td>\n",
       "    </tr>\n",
       "    <tr>\n",
       "      <th>38</th>\n",
       "      <td>Charlotte</td>\n",
       "      <td>Johnson &amp; Wales University - Charlotte</td>\n",
       "      <td>35.232514</td>\n",
       "      <td>-80.850946</td>\n",
       "      <td>38ChaJo</td>\n",
       "    </tr>\n",
       "    <tr>\n",
       "      <th>39</th>\n",
       "      <td>Charlotte</td>\n",
       "      <td>Charlotte School of Law</td>\n",
       "      <td>35.224990</td>\n",
       "      <td>-80.843017</td>\n",
       "      <td>23ChaCh</td>\n",
       "    </tr>\n",
       "    <tr>\n",
       "      <th>40</th>\n",
       "      <td>Charlotte</td>\n",
       "      <td>Kings College Charlotte NC</td>\n",
       "      <td>35.213536</td>\n",
       "      <td>-80.822009</td>\n",
       "      <td>26ChaKi</td>\n",
       "    </tr>\n",
       "    <tr>\n",
       "      <th>41</th>\n",
       "      <td>Charlotte</td>\n",
       "      <td>DeVry University-North Carolina</td>\n",
       "      <td>35.137838</td>\n",
       "      <td>-80.931370</td>\n",
       "      <td>31ChaDe</td>\n",
       "    </tr>\n",
       "    <tr>\n",
       "      <th>42</th>\n",
       "      <td>Charlotte</td>\n",
       "      <td>University of Phoenix-Charlotte Campus</td>\n",
       "      <td>35.152476</td>\n",
       "      <td>-80.948851</td>\n",
       "      <td>38ChaUn</td>\n",
       "    </tr>\n",
       "    <tr>\n",
       "      <th>43</th>\n",
       "      <td>Urbana-Champaign</td>\n",
       "      <td>University of Illinois at Urbana-Champaign</td>\n",
       "      <td>40.112805</td>\n",
       "      <td>-88.227132</td>\n",
       "      <td>42UrbUn</td>\n",
       "    </tr>\n",
       "    <tr>\n",
       "      <th>44</th>\n",
       "      <td>Urbana-Champaign</td>\n",
       "      <td>Tricoci University of Beauty Culture</td>\n",
       "      <td>40.133075</td>\n",
       "      <td>-88.215816</td>\n",
       "      <td>36UrbTr</td>\n",
       "    </tr>\n",
       "    <tr>\n",
       "      <th>45</th>\n",
       "      <td>Phoenix</td>\n",
       "      <td>Grand Canyon University</td>\n",
       "      <td>33.510543</td>\n",
       "      <td>-112.127037</td>\n",
       "      <td>23PhoGr</td>\n",
       "    </tr>\n",
       "    <tr>\n",
       "      <th>46</th>\n",
       "      <td>Phoenix</td>\n",
       "      <td>Phoenix College</td>\n",
       "      <td>33.483320</td>\n",
       "      <td>-112.087742</td>\n",
       "      <td>15PhoPh</td>\n",
       "    </tr>\n",
       "    <tr>\n",
       "      <th>47</th>\n",
       "      <td>Phoenix</td>\n",
       "      <td>arizona state university</td>\n",
       "      <td>33.497502</td>\n",
       "      <td>-112.069913</td>\n",
       "      <td>24Phoar</td>\n",
       "    </tr>\n",
       "    <tr>\n",
       "      <th>48</th>\n",
       "      <td>Phoenix</td>\n",
       "      <td>DeVry University</td>\n",
       "      <td>33.565994</td>\n",
       "      <td>-112.103769</td>\n",
       "      <td>16PhoDe</td>\n",
       "    </tr>\n",
       "    <tr>\n",
       "      <th>49</th>\n",
       "      <td>Phoenix</td>\n",
       "      <td>Arizona Christian University</td>\n",
       "      <td>33.594621</td>\n",
       "      <td>-112.026236</td>\n",
       "      <td>28PhoAr</td>\n",
       "    </tr>\n",
       "    <tr>\n",
       "      <th>50</th>\n",
       "      <td>Phoenix</td>\n",
       "      <td>Arizona Summit Law School</td>\n",
       "      <td>33.448509</td>\n",
       "      <td>-112.071839</td>\n",
       "      <td>25PhoAr</td>\n",
       "    </tr>\n",
       "    <tr>\n",
       "      <th>51</th>\n",
       "      <td>Phoenix</td>\n",
       "      <td>The Art Institute of Phoenix</td>\n",
       "      <td>33.566895</td>\n",
       "      <td>-112.106157</td>\n",
       "      <td>28PhoTh</td>\n",
       "    </tr>\n",
       "    <tr>\n",
       "      <th>52</th>\n",
       "      <td>Las Vegas</td>\n",
       "      <td>University of Nevada-Las Vegas</td>\n",
       "      <td>36.105558</td>\n",
       "      <td>-115.139125</td>\n",
       "      <td>30LasUn</td>\n",
       "    </tr>\n",
       "    <tr>\n",
       "      <th>53</th>\n",
       "      <td>Las Vegas</td>\n",
       "      <td>College of Southern Nevada</td>\n",
       "      <td>36.007922</td>\n",
       "      <td>-114.964833</td>\n",
       "      <td>26LasCo</td>\n",
       "    </tr>\n",
       "    <tr>\n",
       "      <th>54</th>\n",
       "      <td>Las Vegas</td>\n",
       "      <td>Northwest Career College</td>\n",
       "      <td>36.203770</td>\n",
       "      <td>-115.255452</td>\n",
       "      <td>24LasNo</td>\n",
       "    </tr>\n",
       "    <tr>\n",
       "      <th>55</th>\n",
       "      <td>Las Vegas</td>\n",
       "      <td>Brightwood College-Las Vegas</td>\n",
       "      <td>36.143345</td>\n",
       "      <td>-115.188099</td>\n",
       "      <td>28LasBr</td>\n",
       "    </tr>\n",
       "    <tr>\n",
       "      <th>56</th>\n",
       "      <td>Las Vegas</td>\n",
       "      <td>Le Cordon Bleu College of Culinary Arts Las Vegas</td>\n",
       "      <td>36.187965</td>\n",
       "      <td>-115.311689</td>\n",
       "      <td>49LasLe</td>\n",
       "    </tr>\n",
       "    <tr>\n",
       "      <th>57</th>\n",
       "      <td>Las Vegas</td>\n",
       "      <td>Pima Medical Institute-Las Vegas</td>\n",
       "      <td>36.114371</td>\n",
       "      <td>-115.102206</td>\n",
       "      <td>32LasPi</td>\n",
       "    </tr>\n",
       "    <tr>\n",
       "      <th>58</th>\n",
       "      <td>Las Vegas</td>\n",
       "      <td>Euphoria Institute of Beauty Arts &amp; Sciences-L...</td>\n",
       "      <td>36.147539</td>\n",
       "      <td>-115.298671</td>\n",
       "      <td>54LasEu</td>\n",
       "    </tr>\n",
       "    <tr>\n",
       "      <th>59</th>\n",
       "      <td>Madison</td>\n",
       "      <td>University of Wisconsin-Madison</td>\n",
       "      <td>43.079177</td>\n",
       "      <td>-89.412222</td>\n",
       "      <td>31MadUn</td>\n",
       "    </tr>\n",
       "    <tr>\n",
       "      <th>60</th>\n",
       "      <td>Madison</td>\n",
       "      <td>Madison Area Technical College</td>\n",
       "      <td>43.122048</td>\n",
       "      <td>-89.327962</td>\n",
       "      <td>30MadMa</td>\n",
       "    </tr>\n",
       "    <tr>\n",
       "      <th>61</th>\n",
       "      <td>Madison</td>\n",
       "      <td>Edgewood College</td>\n",
       "      <td>43.060924</td>\n",
       "      <td>-89.423378</td>\n",
       "      <td>16MadEd</td>\n",
       "    </tr>\n",
       "    <tr>\n",
       "      <th>62</th>\n",
       "      <td>Madison</td>\n",
       "      <td>University of Wisconsin-Extension</td>\n",
       "      <td>43.074435</td>\n",
       "      <td>-89.397843</td>\n",
       "      <td>33MadUn</td>\n",
       "    </tr>\n",
       "    <tr>\n",
       "      <th>63</th>\n",
       "      <td>Madison</td>\n",
       "      <td>Madison Media Institute</td>\n",
       "      <td>43.059146</td>\n",
       "      <td>-89.294203</td>\n",
       "      <td>23MadMa</td>\n",
       "    </tr>\n",
       "    <tr>\n",
       "      <th>64</th>\n",
       "      <td>Madison</td>\n",
       "      <td>Herzing University-Madison</td>\n",
       "      <td>43.178557</td>\n",
       "      <td>-89.281635</td>\n",
       "      <td>26MadHe</td>\n",
       "    </tr>\n",
       "    <tr>\n",
       "      <th>65</th>\n",
       "      <td>Madison</td>\n",
       "      <td>Globe University</td>\n",
       "      <td>43.196346</td>\n",
       "      <td>-89.294680</td>\n",
       "      <td>16MadGl</td>\n",
       "    </tr>\n",
       "    <tr>\n",
       "      <th>66</th>\n",
       "      <td>Madison</td>\n",
       "      <td>Madison Cosmetology College</td>\n",
       "      <td>43.131446</td>\n",
       "      <td>-89.305169</td>\n",
       "      <td>27MadMa</td>\n",
       "    </tr>\n",
       "  </tbody>\n",
       "</table>\n",
       "<p>67 rows × 5 columns</p>\n",
       "</div>"
      ],
      "text/plain": [
       "                area                                    university_name  \\\n",
       "0          Edinburgh                            University of Edinburgh   \n",
       "1          Edinburgh                             Heriot-Watt University   \n",
       "2          Edinburgh                        Edinburgh Napier University   \n",
       "3          Edinburgh                                  Edinburgh College   \n",
       "4          Edinburgh                                Leith School of Art   \n",
       "5          Edinburgh                     Edinburgh Theological Seminary   \n",
       "6           Montreal                             University of Montreal   \n",
       "7           Montreal                    Universite du Quebec a Montreal   \n",
       "8           Montreal               Concordia University - Loyola Campus   \n",
       "9           Montreal                                  McGill University   \n",
       "10          Montreal                                       HEC Montreal   \n",
       "11          Montreal                    Ecole Polytechnique de Montreal   \n",
       "12          Montreal                            Cegep du Vieux Montreal   \n",
       "13          Montreal                                     Vanier College   \n",
       "14          Montreal                                    LaSalle College   \n",
       "15          Montreal                                   College Ahuntsic   \n",
       "16        Pittsburgh                           University of Pittsburgh   \n",
       "17        Pittsburgh                         Carnegie Mellon University   \n",
       "18        Pittsburgh                                Duquesne University   \n",
       "19        Pittsburgh                              Point Park University   \n",
       "20        Pittsburgh                                 Chatham University   \n",
       "21        Pittsburgh                                  Carlow University   \n",
       "22        Pittsburgh                                   La Roche College   \n",
       "23        Pittsburgh                    The Art Institute of Pittsburgh   \n",
       "24        Pittsburgh         Joseph M. Katz Graduate School of Business   \n",
       "25         Karlsruhe                  Karlsruhe Institute of Technology   \n",
       "26         Karlsruhe        Hochschule Karlsruhe-Technik und Wirtschaft   \n",
       "27         Karlsruhe                  Padagogische Hochschule Karlsruhe   \n",
       "28         Karlsruhe                     Hochschule fur Musik Karlsruhe   \n",
       "29         Karlsruhe            Karlsruhe University of Arts and Design   \n",
       "..               ...                                                ...   \n",
       "37         Charlotte                        Johnson C. Smith University   \n",
       "38         Charlotte             Johnson & Wales University - Charlotte   \n",
       "39         Charlotte                            Charlotte School of Law   \n",
       "40         Charlotte                         Kings College Charlotte NC   \n",
       "41         Charlotte                    DeVry University-North Carolina   \n",
       "42         Charlotte             University of Phoenix-Charlotte Campus   \n",
       "43  Urbana-Champaign         University of Illinois at Urbana-Champaign   \n",
       "44  Urbana-Champaign               Tricoci University of Beauty Culture   \n",
       "45           Phoenix                            Grand Canyon University   \n",
       "46           Phoenix                                    Phoenix College   \n",
       "47           Phoenix                           arizona state university   \n",
       "48           Phoenix                                   DeVry University   \n",
       "49           Phoenix                       Arizona Christian University   \n",
       "50           Phoenix                          Arizona Summit Law School   \n",
       "51           Phoenix                       The Art Institute of Phoenix   \n",
       "52         Las Vegas                     University of Nevada-Las Vegas   \n",
       "53         Las Vegas                         College of Southern Nevada   \n",
       "54         Las Vegas                           Northwest Career College   \n",
       "55         Las Vegas                       Brightwood College-Las Vegas   \n",
       "56         Las Vegas  Le Cordon Bleu College of Culinary Arts Las Vegas   \n",
       "57         Las Vegas                   Pima Medical Institute-Las Vegas   \n",
       "58         Las Vegas  Euphoria Institute of Beauty Arts & Sciences-L...   \n",
       "59           Madison                    University of Wisconsin-Madison   \n",
       "60           Madison                     Madison Area Technical College   \n",
       "61           Madison                                   Edgewood College   \n",
       "62           Madison                  University of Wisconsin-Extension   \n",
       "63           Madison                            Madison Media Institute   \n",
       "64           Madison                         Herzing University-Madison   \n",
       "65           Madison                                   Globe University   \n",
       "66           Madison                        Madison Cosmetology College   \n",
       "\n",
       "     latitude   longitude university_id  \n",
       "0   55.949236   -3.188715       23EdiUn  \n",
       "1   55.916008   -3.321408       22EdiHe  \n",
       "2   55.918727   -3.239828       27EdiEd  \n",
       "3   55.943907   -3.098522       17EdiEd  \n",
       "4   55.976253   -3.179793       19EdiLe  \n",
       "5   55.949951   -3.194276       30EdiEd  \n",
       "6   45.505563  -73.613722       22MonUn  \n",
       "7   45.512576  -73.560669       31MonUn  \n",
       "8   45.458009  -73.640334       36MonCo  \n",
       "9   45.504956  -73.576181       17MonMc  \n",
       "10  45.503351  -73.620334       12MonHE  \n",
       "11  45.504373  -73.612481       31MonEc  \n",
       "12  45.514590  -73.565617       23MonCe  \n",
       "13  45.515161  -73.675044       14MonVa  \n",
       "14  45.491497  -73.581042       15MonLa  \n",
       "15  45.552116  -73.641415       16MonCo  \n",
       "16  40.446208  -79.960817       24PitUn  \n",
       "17  40.443495  -79.943657       26PitCa  \n",
       "18  40.436981  -79.990244       19PitDu  \n",
       "19  40.438497  -80.001276       21PitPo  \n",
       "20  40.451304  -79.925514       18PitCh  \n",
       "21  40.438980  -79.963075       17PitCa  \n",
       "22  40.570300  -80.013567       16PitLa  \n",
       "23  40.437348  -79.999608       31PitTh  \n",
       "24  40.440823  -79.953319       42PitJo  \n",
       "25  49.011695    8.430382       33KarKa  \n",
       "26  49.015856    8.389617       43KarHo  \n",
       "27  49.013310    8.394376       33KarPa  \n",
       "28  49.004575    8.427671       30KarHo  \n",
       "29  49.001816    8.385647       39KarKa  \n",
       "..        ...         ...           ...  \n",
       "37  35.244470  -80.857372       27ChaJo  \n",
       "38  35.232514  -80.850946       38ChaJo  \n",
       "39  35.224990  -80.843017       23ChaCh  \n",
       "40  35.213536  -80.822009       26ChaKi  \n",
       "41  35.137838  -80.931370       31ChaDe  \n",
       "42  35.152476  -80.948851       38ChaUn  \n",
       "43  40.112805  -88.227132       42UrbUn  \n",
       "44  40.133075  -88.215816       36UrbTr  \n",
       "45  33.510543 -112.127037       23PhoGr  \n",
       "46  33.483320 -112.087742       15PhoPh  \n",
       "47  33.497502 -112.069913       24Phoar  \n",
       "48  33.565994 -112.103769       16PhoDe  \n",
       "49  33.594621 -112.026236       28PhoAr  \n",
       "50  33.448509 -112.071839       25PhoAr  \n",
       "51  33.566895 -112.106157       28PhoTh  \n",
       "52  36.105558 -115.139125       30LasUn  \n",
       "53  36.007922 -114.964833       26LasCo  \n",
       "54  36.203770 -115.255452       24LasNo  \n",
       "55  36.143345 -115.188099       28LasBr  \n",
       "56  36.187965 -115.311689       49LasLe  \n",
       "57  36.114371 -115.102206       32LasPi  \n",
       "58  36.147539 -115.298671       54LasEu  \n",
       "59  43.079177  -89.412222       31MadUn  \n",
       "60  43.122048  -89.327962       30MadMa  \n",
       "61  43.060924  -89.423378       16MadEd  \n",
       "62  43.074435  -89.397843       33MadUn  \n",
       "63  43.059146  -89.294203       23MadMa  \n",
       "64  43.178557  -89.281635       26MadHe  \n",
       "65  43.196346  -89.294680       16MadGl  \n",
       "66  43.131446  -89.305169       27MadMa  \n",
       "\n",
       "[67 rows x 5 columns]"
      ]
     },
     "execution_count": 24,
     "metadata": {},
     "output_type": "execute_result"
    }
   ],
   "source": [
    "uni"
   ]
  },
  {
   "cell_type": "code",
   "execution_count": 25,
   "metadata": {
    "collapsed": true
   },
   "outputs": [],
   "source": [
    "uni.to_csv(\"university.csv\", index = False)"
   ]
  },
  {
   "cell_type": "code",
   "execution_count": null,
   "metadata": {
    "collapsed": true
   },
   "outputs": [],
   "source": []
  }
 ],
 "metadata": {
  "anaconda-cloud": {},
  "kernelspec": {
   "display_name": "Python [default]",
   "language": "python",
   "name": "python3"
  },
  "language_info": {
   "codemirror_mode": {
    "name": "ipython",
    "version": 3
   },
   "file_extension": ".py",
   "mimetype": "text/x-python",
   "name": "python",
   "nbconvert_exporter": "python",
   "pygments_lexer": "ipython3",
   "version": "3.5.2"
  }
 },
 "nbformat": 4,
 "nbformat_minor": 1
}
